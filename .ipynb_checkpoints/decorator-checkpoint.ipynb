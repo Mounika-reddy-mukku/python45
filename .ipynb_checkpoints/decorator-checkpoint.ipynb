{
 "cells": [
  {
   "cell_type": "code",
   "execution_count": 1,
   "id": "d8af1f8c-7ee3-4d05-8bce-9c10f46bf1b9",
   "metadata": {},
   "outputs": [
    {
     "name": "stdout",
     "output_type": "stream",
     "text": [
      "Home Page\n",
      "Order Page\n",
      "Payment Page\n"
     ]
    }
   ],
   "source": [
    "def home_page(flag):\n",
    "    print(\"Home Page\")\n",
    "def order_page(flag):\n",
    "    print(\"Order Page\")\n",
    "def pay_page(flag):\n",
    "    print(\"Payment Page\")\n",
    "home_page(True)\n",
    "order_page(False)\n",
    "pay_page(True)\n"
   ]
  },
  {
   "cell_type": "code",
   "execution_count": 2,
   "id": "482f1ed5-8613-4bed-abe0-b6d7b5ff2743",
   "metadata": {},
   "outputs": [
    {
     "name": "stdout",
     "output_type": "stream",
     "text": [
      "Home Page\n",
      "Order Page\n",
      "Payment Page\n"
     ]
    }
   ],
   "source": [
    "def home_page(flag):\n",
    "    print(\"Home Page\")\n",
    "def order_page(flag):\n",
    "    print(\"Order Page\")\n",
    "def pay_page(flag):\n",
    "    print(\"Payment Page\")\n",
    "home_page(False)\n",
    "order_page(False)\n",
    "pay_page(False)"
   ]
  },
  {
   "cell_type": "code",
   "execution_count": 8,
   "id": "a6aca503-94bc-4dd9-bc30-fd628d462a73",
   "metadata": {},
   "outputs": [
    {
     "name": "stdout",
     "output_type": "stream",
     "text": [
      "Login Failed\n",
      "Login Failed\n",
      "Payment Page\n"
     ]
    }
   ],
   "source": [
    "#Decorator\n",
    "def login_req(func):\n",
    "    def inner(flag):\n",
    "        if (flag==False):\n",
    "            print(\"Login Failed\")\n",
    "        else:\n",
    "            func(flag)\n",
    "    return inner\n",
    "@login_req\n",
    "def home_page(flag):\n",
    "    print(\"Home Page\")\n",
    "@login_req\n",
    "def order_page(flag):\n",
    "    print(\"Order Page\")\n",
    "def pay_page(flag):\n",
    "    print(\"Payment Page\")\n",
    "home_page(False)\n",
    "order_page(False)\n",
    "pay_page(True)"
   ]
  },
  {
   "cell_type": "code",
   "execution_count": 9,
   "id": "82e56c7e-777e-4e8c-953b-f9df3adbe5ec",
   "metadata": {},
   "outputs": [
    {
     "name": "stdout",
     "output_type": "stream",
     "text": [
      "2.0\n"
     ]
    }
   ],
   "source": [
    "#zero division\n",
    "def divide(a,b):\n",
    "    return a/b\n",
    "print(divide(10,5))"
   ]
  },
  {
   "cell_type": "code",
   "execution_count": 10,
   "id": "a41f2add-31f1-4553-bf7a-95d2757a5028",
   "metadata": {},
   "outputs": [
    {
     "ename": "ZeroDivisionError",
     "evalue": "division by zero",
     "output_type": "error",
     "traceback": [
      "\u001b[1;31m---------------------------------------------------------------------------\u001b[0m",
      "\u001b[1;31mZeroDivisionError\u001b[0m                         Traceback (most recent call last)",
      "Cell \u001b[1;32mIn[10], line 4\u001b[0m\n\u001b[0;32m      2\u001b[0m \u001b[38;5;28;01mdef\u001b[39;00m \u001b[38;5;21mdivide\u001b[39m(a,b):\n\u001b[0;32m      3\u001b[0m     \u001b[38;5;28;01mreturn\u001b[39;00m a\u001b[38;5;241m/\u001b[39mb\n\u001b[1;32m----> 4\u001b[0m \u001b[38;5;28mprint\u001b[39m(\u001b[43mdivide\u001b[49m\u001b[43m(\u001b[49m\u001b[38;5;241;43m10\u001b[39;49m\u001b[43m,\u001b[49m\u001b[38;5;241;43m0\u001b[39;49m\u001b[43m)\u001b[49m)\n",
      "Cell \u001b[1;32mIn[10], line 3\u001b[0m, in \u001b[0;36mdivide\u001b[1;34m(a, b)\u001b[0m\n\u001b[0;32m      2\u001b[0m \u001b[38;5;28;01mdef\u001b[39;00m \u001b[38;5;21mdivide\u001b[39m(a,b):\n\u001b[1;32m----> 3\u001b[0m     \u001b[38;5;28;01mreturn\u001b[39;00m \u001b[43ma\u001b[49m\u001b[38;5;241;43m/\u001b[39;49m\u001b[43mb\u001b[49m\n",
      "\u001b[1;31mZeroDivisionError\u001b[0m: division by zero"
     ]
    }
   ],
   "source": [
    "#zero division\n",
    "def divide(a,b):\n",
    "    return a/b\n",
    "print(divide(10,0))"
   ]
  },
  {
   "cell_type": "code",
   "execution_count": 20,
   "id": "ef394454-4fd6-4a2a-8a1c-afc919f7d578",
   "metadata": {},
   "outputs": [
    {
     "name": "stdout",
     "output_type": "stream",
     "text": [
      "b value can't be Zero\n",
      "None\n"
     ]
    }
   ],
   "source": [
    "#zero division\n",
    "def check(func):\n",
    "    def inner(a,b):\n",
    "        if(b==0):\n",
    "            print(\"b value can't be Zero\")\n",
    "        else:\n",
    "            func(a,b)\n",
    "    return inner\n",
    "@check\n",
    "def divide(a,b):\n",
    "    return a/b\n",
    "print(divide(5,0))"
   ]
  },
  {
   "cell_type": "code",
   "execution_count": null,
   "id": "b11f89c1-e21b-4247-91dc-08f8bc8f9750",
   "metadata": {},
   "outputs": [],
   "source": []
  }
 ],
 "metadata": {
  "kernelspec": {
   "display_name": "Python 3 (ipykernel)",
   "language": "python",
   "name": "python3"
  },
  "language_info": {
   "codemirror_mode": {
    "name": "ipython",
    "version": 3
   },
   "file_extension": ".py",
   "mimetype": "text/x-python",
   "name": "python",
   "nbconvert_exporter": "python",
   "pygments_lexer": "ipython3",
   "version": "3.11.5"
  }
 },
 "nbformat": 4,
 "nbformat_minor": 5
}
