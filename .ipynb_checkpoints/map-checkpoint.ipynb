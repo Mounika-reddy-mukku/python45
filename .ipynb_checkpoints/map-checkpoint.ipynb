{
 "cells": [
  {
   "cell_type": "code",
   "execution_count": 2,
   "id": "ba594f9c-05e2-493d-831c-d1c15bbcc03c",
   "metadata": {},
   "outputs": [
    {
     "name": "stdout",
     "output_type": "stream",
     "text": [
      "[99, 199, 299, 399]\n"
     ]
    }
   ],
   "source": [
    "#normal \n",
    "prices=[98,198,298,398]\n",
    "new_prices=[]\n",
    "for price in prices:\n",
    "    new_prices.append(price+1)\n",
    "print(new_prices)\n"
   ]
  },
  {
   "cell_type": "code",
   "execution_count": 8,
   "id": "1a928e46-dfa9-4b8a-b420-416561de4e57",
   "metadata": {},
   "outputs": [
    {
     "name": "stdout",
     "output_type": "stream",
     "text": [
      "<map object at 0x0000020207068F70>\n"
     ]
    }
   ],
   "source": [
    "#Using map\n",
    "prices=[98,198,298,398]\n",
    "def addone(price):\n",
    "    return price+1\n",
    "map1=map(addone, prices)\n",
    "print(map1)\n"
   ]
  },
  {
   "cell_type": "code",
   "execution_count": null,
   "id": "3a0071ff-7428-43bf-990b-ecc7206dc1b8",
   "metadata": {},
   "outputs": [],
   "source": [
    "prices=[98,198,298,398]\n",
    "def addone(price):\n",
    "    return price+1\n",
    "map1=list(map(addone, prices))\n",
    "print(map1)\n"
   ]
  }
 ],
 "metadata": {
  "kernelspec": {
   "display_name": "Python 3 (ipykernel)",
   "language": "python",
   "name": "python3"
  },
  "language_info": {
   "codemirror_mode": {
    "name": "ipython",
    "version": 3
   },
   "file_extension": ".py",
   "mimetype": "text/x-python",
   "name": "python",
   "nbconvert_exporter": "python",
   "pygments_lexer": "ipython3",
   "version": "3.11.5"
  }
 },
 "nbformat": 4,
 "nbformat_minor": 5
}
