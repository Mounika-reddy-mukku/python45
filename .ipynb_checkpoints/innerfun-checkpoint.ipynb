{
 "cells": [
  {
   "cell_type": "code",
   "execution_count": 1,
   "id": "b55eda51-068a-4019-b968-4b1527df2dd1",
   "metadata": {},
   "outputs": [
    {
     "name": "stdout",
     "output_type": "stream",
     "text": [
      "Outer function\n",
      "Inner function\n"
     ]
    }
   ],
   "source": [
    "def outer():\n",
    "    print(\"Outer function\")\n",
    "    def inner():\n",
    "        print(\"Inner function\")\n",
    "    inner()\n",
    "outer()"
   ]
  },
  {
   "cell_type": "code",
   "execution_count": 2,
   "id": "ed5f03ef-f9ee-40e6-992d-12cfe01b31f2",
   "metadata": {},
   "outputs": [
    {
     "name": "stdout",
     "output_type": "stream",
     "text": [
      "Outer function\n",
      "Inner function\n"
     ]
    }
   ],
   "source": [
    "#calling inner function outside the function\n",
    "def outer():\n",
    "    print(\"Outer function\")\n",
    "    def inner():\n",
    "        print(\"Inner function\")\n",
    "    return inner\n",
    "x=outer()\n",
    "x()"
   ]
  },
  {
   "cell_type": "code",
   "execution_count": null,
   "id": "14b1b652-ad12-4cc3-bfcf-371a566124f8",
   "metadata": {},
   "outputs": [],
   "source": []
  }
 ],
 "metadata": {
  "kernelspec": {
   "display_name": "Python 3 (ipykernel)",
   "language": "python",
   "name": "python3"
  },
  "language_info": {
   "codemirror_mode": {
    "name": "ipython",
    "version": 3
   },
   "file_extension": ".py",
   "mimetype": "text/x-python",
   "name": "python",
   "nbconvert_exporter": "python",
   "pygments_lexer": "ipython3",
   "version": "3.11.5"
  }
 },
 "nbformat": 4,
 "nbformat_minor": 5
}
