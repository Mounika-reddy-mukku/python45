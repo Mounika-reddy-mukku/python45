{
 "cells": [
  {
   "cell_type": "code",
   "execution_count": 2,
   "id": "32adbabc-a98f-4685-91c0-9a7a6df63642",
   "metadata": {},
   "outputs": [
    {
     "name": "stdout",
     "output_type": "stream",
     "text": [
      "30\n"
     ]
    }
   ],
   "source": [
    "def add(a,b):\n",
    "    return a+b\n",
    "print(add(10,20))"
   ]
  },
  {
   "cell_type": "code",
   "execution_count": 3,
   "id": "0262feb0-7705-4aa4-97cf-9d93b01df56c",
   "metadata": {},
   "outputs": [
    {
     "name": "stdout",
     "output_type": "stream",
     "text": [
      "30\n"
     ]
    }
   ],
   "source": [
    "def add(a,b):\n",
    "    return a+b\n",
    "print(add(a=10,b=20))"
   ]
  },
  {
   "cell_type": "code",
   "execution_count": 4,
   "id": "d3e1af78-2783-4e2b-847a-81d685f040ea",
   "metadata": {},
   "outputs": [
    {
     "name": "stdout",
     "output_type": "stream",
     "text": [
      "30\n"
     ]
    }
   ],
   "source": [
    "def add(a,b):\n",
    "    return a+b\n",
    "print(add(b=10,a=20))"
   ]
  },
  {
   "cell_type": "code",
   "execution_count": 5,
   "id": "9bf374dd-e263-4835-91b4-00a33cebebe0",
   "metadata": {},
   "outputs": [
    {
     "name": "stdout",
     "output_type": "stream",
     "text": [
      "-10\n"
     ]
    }
   ],
   "source": [
    "def add(a,b):\n",
    "    return a-b\n",
    "print(add(a=10,b=20)) #the positional aruguments are assigned with values"
   ]
  },
  {
   "cell_type": "code",
   "execution_count": 6,
   "id": "a5ad6e92-d3b2-46cb-9f92-4475278e6a73",
   "metadata": {},
   "outputs": [
    {
     "name": "stdout",
     "output_type": "stream",
     "text": [
      "10\n"
     ]
    }
   ],
   "source": [
    "def add(a,b):\n",
    "    return a-b\n",
    "print(add(b=10,a=20))"
   ]
  },
  {
   "cell_type": "code",
   "execution_count": 7,
   "id": "fbc95a79-e717-4b16-ad32-a9fa6addcf7f",
   "metadata": {},
   "outputs": [
    {
     "name": "stdout",
     "output_type": "stream",
     "text": [
      "-10\n"
     ]
    }
   ],
   "source": [
    "def add(a,b):\n",
    "    return a-b\n",
    "print(add(b=20,a=10))"
   ]
  },
  {
   "cell_type": "code",
   "execution_count": 9,
   "id": "79363a73-36cf-43dc-9830-1850ac6a5eab",
   "metadata": {},
   "outputs": [
    {
     "name": "stdout",
     "output_type": "stream",
     "text": [
      "(1,)\n",
      "(1, 2)\n",
      "(1, 2, 3)\n"
     ]
    }
   ],
   "source": [
    "def val(*a): #*a is the variable length argument\n",
    "    print(a)\n",
    "val(1)\n",
    "val(1,2)\n",
    "val(1,2,3)\n",
    "    "
   ]
  },
  {
   "cell_type": "code",
   "execution_count": 11,
   "id": "58732303-8947-4fd7-bf84-4c413e5062a3",
   "metadata": {},
   "outputs": [
    {
     "name": "stdin",
     "output_type": "stream",
     "text": [
      "Enter a value: 10\n",
      "Enter b value: 20\n",
      "Enter c value: 30\n"
     ]
    },
    {
     "name": "stdout",
     "output_type": "stream",
     "text": [
      "60\n"
     ]
    }
   ],
   "source": [
    "#default arguments\n",
    "def add(a=1,b=2,c=3):\n",
    "    return a+b+c\n",
    "a=int(input(\"Enter a value:\"))\n",
    "b=int(input(\"Enter b value:\"))\n",
    "c=int(input(\"Enter c value:\"))\n",
    "print(add(a,b,c))\n"
   ]
  },
  {
   "cell_type": "code",
   "execution_count": 12,
   "id": "8a06b3b1-505e-4882-a5c8-d58234cd238d",
   "metadata": {},
   "outputs": [
    {
     "name": "stdin",
     "output_type": "stream",
     "text": [
      "Enter a value: 10\n",
      "Enter b value: 20\n",
      "Enter c value: 30\n"
     ]
    },
    {
     "name": "stdout",
     "output_type": "stream",
     "text": [
      "43\n"
     ]
    }
   ],
   "source": [
    "def add(a=1,b=2,c=3):\n",
    "    return a+b+c\n",
    "a=int(input(\"Enter a value:\"))\n",
    "b=int(input(\"Enter b value:\"))\n",
    "c=int(input(\"Enter c value:\"))\n",
    "print(add(a,c))\n"
   ]
  },
  {
   "cell_type": "code",
   "execution_count": 13,
   "id": "bd84aa2a-ccf3-4ae6-b835-90505184d47d",
   "metadata": {},
   "outputs": [
    {
     "name": "stdout",
     "output_type": "stream",
     "text": [
      "32\n"
     ]
    }
   ],
   "source": [
    "def add(a=1,b=2,c=3):\n",
    "    return a+b+c\n",
    "print(add(a=10,c=20))"
   ]
  },
  {
   "cell_type": "code",
   "execution_count": 14,
   "id": "8cd2cd2e-2ee4-4d5d-a463-861f377952fa",
   "metadata": {},
   "outputs": [
    {
     "name": "stdout",
     "output_type": "stream",
     "text": [
      "33\n"
     ]
    }
   ],
   "source": [
    "def add(a=1,b=2,c=3):\n",
    "    return a+b+c\n",
    "print(add(10,20))"
   ]
  },
  {
   "cell_type": "code",
   "execution_count": null,
   "id": "ab182ed1-9e76-4a85-90ac-d338a0366d8d",
   "metadata": {},
   "outputs": [],
   "source": []
  }
 ],
 "metadata": {
  "kernelspec": {
   "display_name": "Python 3 (ipykernel)",
   "language": "python",
   "name": "python3"
  },
  "language_info": {
   "codemirror_mode": {
    "name": "ipython",
    "version": 3
   },
   "file_extension": ".py",
   "mimetype": "text/x-python",
   "name": "python",
   "nbconvert_exporter": "python",
   "pygments_lexer": "ipython3",
   "version": "3.11.5"
  }
 },
 "nbformat": 4,
 "nbformat_minor": 5
}
