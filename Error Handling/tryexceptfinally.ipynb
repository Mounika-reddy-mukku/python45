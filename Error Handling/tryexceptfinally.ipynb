{
 "cells": [
  {
   "cell_type": "code",
   "execution_count": 2,
   "metadata": {},
   "outputs": [
    {
     "name": "stdout",
     "output_type": "stream",
     "text": [
      "Hi this is Except file\n"
     ]
    }
   ],
   "source": [
    "try: #reskey statements\n",
    "    fp=open(\"try.txt\",'r')\n",
    "    data=fp.read()\n",
    "    print(data)\n",
    "except : #alternative statements\n",
    "    fp=open(\"Except.txt\",'r') \n",
    "    data=fp.read()\n",
    "    print(data)\n",
    "finally: #mandatory stratement\n",
    "    fp.close()\n"
   ]
  },
  {
   "cell_type": "code",
   "execution_count": 3,
   "metadata": {},
   "outputs": [
    {
     "name": "stdout",
     "output_type": "stream",
     "text": [
      "Hi this is Except file\n",
      "[Errno 2] No such file or directory: 'try.txt'\n"
     ]
    }
   ],
   "source": [
    "try: \n",
    "    fp=open(\"try.txt\",'r')\n",
    "    data=fp.read()\n",
    "    print(data)\n",
    "except FileNotFoundError as err: #alternative statements\n",
    "    fp=open(\"Except.txt\",'r') \n",
    "    data=fp.read()\n",
    "    print(data)\n",
    "    print(err)\n",
    "finally: #mandatory stratement\n",
    "    fp.close()"
   ]
  },
  {
   "cell_type": "code",
   "execution_count": 4,
   "metadata": {},
   "outputs": [
    {
     "name": "stdout",
     "output_type": "stream",
     "text": [
      "Hi this is try file\n"
     ]
    }
   ],
   "source": [
    "#when we have try.txt file\n",
    "try: #resiky statements\n",
    "    fp=open(\"try.txt\",'r')\n",
    "    data=fp.read()\n",
    "    print(data)\n",
    "except FileNotFoundError as err: #alternative statements\n",
    "    fp=open(\"Except.txt\",'r') \n",
    "    data=fp.read()\n",
    "    print(data)\n",
    "    print(err)\n",
    "finally: #mandatory stratement\n",
    "    fp.close()"
   ]
  },
  {
   "cell_type": "code",
   "execution_count": 7,
   "metadata": {},
   "outputs": [
    {
     "name": "stdout",
     "output_type": "stream",
     "text": [
      "Hi this is try file\n",
      "True\n"
     ]
    }
   ],
   "source": [
    "#when we have try.txt file\n",
    "try: #resiky statements\n",
    "    fp=open(\"try.txt\",'r')\n",
    "    data=fp.read()\n",
    "    print(data)\n",
    "except FileNotFoundError as err: #alternative statements\n",
    "    fp=open(\"Except.txt\",'r') \n",
    "    data=fp.read()\n",
    "    print(data)\n",
    "    print(err)\n",
    "finally: #mandatory stratement\n",
    "    fp.close()\n",
    "    print(fp.closed)"
   ]
  },
  {
   "cell_type": "code",
   "execution_count": 8,
   "metadata": {},
   "outputs": [
    {
     "name": "stdout",
     "output_type": "stream",
     "text": [
      "Hi this is try file\n",
      "False\n"
     ]
    }
   ],
   "source": [
    "#when we have try.txt file\n",
    "try: #resiky statements\n",
    "    fp=open(\"try.txt\",'r')\n",
    "    data=fp.read()\n",
    "    print(data)\n",
    "except FileNotFoundError as err: #alternative statements\n",
    "    fp=open(\"Except.txt\",'r') \n",
    "    data=fp.read()\n",
    "    print(data)\n",
    "    print(err)\n",
    "finally: #mandatory stratement\n",
    "    \n",
    "    print(fp.closed)"
   ]
  },
  {
   "cell_type": "code",
   "execution_count": 13,
   "metadata": {},
   "outputs": [
    {
     "name": "stdout",
     "output_type": "stream",
     "text": [
      "Hi this is try file\n",
      "True\n"
     ]
    }
   ],
   "source": [
    "#when we have try.txt file\n",
    "try: #resiky statements\n",
    "    fp=open(\"try.txt\",'r')\n",
    "    data=fp.read()\n",
    "    print(data)\n",
    "except FileNotFoundError as err: #alternative statements\n",
    "    fp=open(\"Except.txt\",'r') \n",
    "    data=fp.read()\n",
    "    print(data)\n",
    "    print(err)\n",
    "finally: #mandatory stratement\n",
    "    fp.close()\n",
    "    print(fp.closed)"
   ]
  }
 ],
 "metadata": {
  "kernelspec": {
   "display_name": "Python 3",
   "language": "python",
   "name": "python3"
  },
  "language_info": {
   "codemirror_mode": {
    "name": "ipython",
    "version": 3
   },
   "file_extension": ".py",
   "mimetype": "text/x-python",
   "name": "python",
   "nbconvert_exporter": "python",
   "pygments_lexer": "ipython3",
   "version": "3.11.5"
  }
 },
 "nbformat": 4,
 "nbformat_minor": 2
}
