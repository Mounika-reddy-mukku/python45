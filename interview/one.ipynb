{
 "cells": [
  {
   "cell_type": "code",
   "execution_count": 6,
   "metadata": {},
   "outputs": [
    {
     "name": "stdout",
     "output_type": "stream",
     "text": [
      "123 is palindrome of 321\n"
     ]
    }
   ],
   "source": [
    "#palindrome\n",
    "a=\"123\"\n",
    "b=\"321\"\n",
    "c=\"\"\n",
    "for i in b:\n",
    "    c=i+c\n",
    "if(c==a):\n",
    "    print(a, \"is palindrome of\",b)"
   ]
  },
  {
   "cell_type": "code",
   "execution_count": 8,
   "metadata": {},
   "outputs": [
    {
     "name": "stdout",
     "output_type": "stream",
     "text": [
      "6\n"
     ]
    }
   ],
   "source": [
    "#Factorial\n",
    "def factorial(n):\n",
    "    if(n==1):\n",
    "        fact=1\n",
    "    if(n>1):\n",
    "        fact=n*factorial(n-1)\n",
    "    return fact\n",
    "\n",
    "n=3\n",
    "fact=1\n",
    "output=factorial(n)\n",
    "print(output)"
   ]
  },
  {
   "cell_type": "code",
   "execution_count": 12,
   "metadata": {},
   "outputs": [
    {
     "name": "stdout",
     "output_type": "stream",
     "text": [
      "153 is armstrong number\n"
     ]
    }
   ],
   "source": [
    "#armstrong number\n",
    "N=int(input())\n",
    "l=len(str(N))\n",
    "sum=0\n",
    "for i in str(N):\n",
    "    sum=int(i)**l+sum\n",
    "if(sum==N):\n",
    "    print(N, \"is armstrong number\")\n",
    "else:\n",
    "    print(N, \"is not a armstrong number\")\n"
   ]
  },
  {
   "cell_type": "code",
   "execution_count": 16,
   "metadata": {},
   "outputs": [
    {
     "name": "stdout",
     "output_type": "stream",
     "text": [
      "the random number is 23\n"
     ]
    }
   ],
   "source": [
    "#random number\n",
    "import random\n",
    "rand=random.randint(1,100)\n",
    "print(\"the random number is\",rand)"
   ]
  },
  {
   "cell_type": "code",
   "execution_count": 17,
   "metadata": {},
   "outputs": [
    {
     "name": "stdout",
     "output_type": "stream",
     "text": [
      "ASCII values for uppercase letters:\n",
      "A: 65\n",
      "B: 66\n",
      "C: 67\n",
      "D: 68\n",
      "E: 69\n",
      "F: 70\n",
      "G: 71\n",
      "H: 72\n",
      "I: 73\n",
      "J: 74\n",
      "K: 75\n",
      "L: 76\n",
      "M: 77\n",
      "N: 78\n",
      "O: 79\n",
      "P: 80\n",
      "Q: 81\n",
      "R: 82\n",
      "S: 83\n",
      "T: 84\n",
      "U: 85\n",
      "V: 86\n",
      "W: 87\n",
      "X: 88\n",
      "Y: 89\n",
      "Z: 90\n",
      "\n",
      "ASCII values for lowercase letters:\n",
      "a: 97\n",
      "b: 98\n",
      "c: 99\n",
      "d: 100\n",
      "e: 101\n",
      "f: 102\n",
      "g: 103\n",
      "h: 104\n",
      "i: 105\n",
      "j: 106\n",
      "k: 107\n",
      "l: 108\n",
      "m: 109\n",
      "n: 110\n",
      "o: 111\n",
      "p: 112\n",
      "q: 113\n",
      "r: 114\n",
      "s: 115\n",
      "t: 116\n",
      "u: 117\n",
      "v: 118\n",
      "w: 119\n",
      "x: 120\n",
      "y: 121\n",
      "z: 122\n",
      "\n",
      "ASCII values for digits:\n",
      "0: 48\n",
      "1: 49\n",
      "2: 50\n",
      "3: 51\n",
      "4: 52\n",
      "5: 53\n",
      "6: 54\n",
      "7: 55\n",
      "8: 56\n",
      "9: 57\n"
     ]
    }
   ],
   "source": [
    "#ascii values\n",
    "\n",
    "print(\"ASCII values for uppercase letters:\")\n",
    "for char in range(65, 91):\n",
    "    print(f\"{chr(char)}: {char}\")\n",
    "\n",
    "# Print ASCII values for lowercase letters\n",
    "print(\"\\nASCII values for lowercase letters:\")\n",
    "for char in range(97, 123):\n",
    "    print(f\"{chr(char)}: {char}\")\n",
    "\n",
    "# Print ASCII values for digits\n",
    "print(\"\\nASCII values for digits:\")\n",
    "for char in range(48, 58):\n",
    "    print(f\"{chr(char)}: {char}\")"
   ]
  },
  {
   "cell_type": "code",
   "execution_count": 19,
   "metadata": {},
   "outputs": [
    {
     "name": "stdout",
     "output_type": "stream",
     "text": [
      "87\n"
     ]
    }
   ],
   "source": [
    "num1=87\n",
    "str=chr(num1)\n",
    "print(ord(str))\n"
   ]
  },
  {
   "cell_type": "code",
   "execution_count": 2,
   "metadata": {},
   "outputs": [
    {
     "name": "stdout",
     "output_type": "stream",
     "text": [
      "11\n",
      "10\n"
     ]
    }
   ],
   "source": [
    "#swap\n",
    "a=10\n",
    "b=11\n",
    "c=a\n",
    "a=b\n",
    "b=c\n",
    "\n",
    "print(a)\n",
    "print(b)"
   ]
  },
  {
   "cell_type": "code",
   "execution_count": 3,
   "metadata": {},
   "outputs": [
    {
     "name": "stdout",
     "output_type": "stream",
     "text": [
      "36.0\n"
     ]
    }
   ],
   "source": [
    "F=int(input())\n",
    "C=(9/5)*(F-32)\n",
    "print(C)"
   ]
  },
  {
   "cell_type": "code",
   "execution_count": 6,
   "metadata": {},
   "outputs": [
    {
     "name": "stdout",
     "output_type": "stream",
     "text": [
      "Buzz number\n"
     ]
    }
   ],
   "source": [
    "#buzz number\n",
    "N=int(input())\n",
    "cond1=N%7==0\n",
    "l=len(str(N))\n",
    "cond2=N%((l-1)*10)\n",
    "if(cond1 or cond2):\n",
    "    print(\"Buzz number\")\n",
    "else:\n",
    "    print(\"Not a buzz number\")"
   ]
  },
  {
   "cell_type": "code",
   "execution_count": 9,
   "metadata": {},
   "outputs": [
    {
     "name": "stdout",
     "output_type": "stream",
     "text": [
      "16 is greatest\n",
      "13 is second greatest\n"
     ]
    }
   ],
   "source": [
    "#largest of three\n",
    "n1=16\n",
    "n2=11\n",
    "n3=13\n",
    "if(n1>n2 and n1>n3):\n",
    "    print(n1,\"is greatest\")\n",
    "    if(n2>n3):\n",
    "        print(n2,\"is second greatest\")\n",
    "    else:\n",
    "        print(n3,\"is second greatest\")\n",
    "elif(n2>n3):\n",
    "    print(n2,\"is greatest\")\n",
    "    if(n1>n3):\n",
    "        print(n1,\"is second greatest\")\n",
    "    else:\n",
    "        print(n3,\"is second greatest\")\n",
    "else:\n",
    "    print(n3,\"is greatest\")\n",
    "    if(n2>n1):\n",
    "        print(n2,\"is second greatest\")\n",
    "    else:\n",
    "        print(n1,\"is second greatest\")\n",
    "\n"
   ]
  },
  {
   "cell_type": "code",
   "execution_count": 12,
   "metadata": {},
   "outputs": [
    {
     "name": "stdout",
     "output_type": "stream",
     "text": [
      "Not a leap year\n"
     ]
    }
   ],
   "source": [
    "#leap year\n",
    "#divisible by 4 but not 100 but divisible by 400\n",
    "def leap_year(N):\n",
    "    if((N%4==0 and N%100!=0) or N%400==0):\n",
    "        print(\"Leap year\")\n",
    "    else:\n",
    "        print(\"Not a leap year\")\n",
    "\n",
    "N=int(input())\n",
    "leap_year(N)"
   ]
  },
  {
   "cell_type": "code",
   "execution_count": 13,
   "metadata": {},
   "outputs": [
    {
     "name": "stdout",
     "output_type": "stream",
     "text": [
      "True\n"
     ]
    }
   ],
   "source": [
    "a=[1,2,3,4,5]\n",
    "print(5 in a)"
   ]
  },
  {
   "cell_type": "code",
   "execution_count": 15,
   "metadata": {},
   "outputs": [
    {
     "name": "stdout",
     "output_type": "stream",
     "text": [
      "27 is harshad number\n"
     ]
    }
   ],
   "source": [
    "#harshad number\n",
    "N=27\n",
    "s=str(N)\n",
    "sum=0\n",
    "for i in s:\n",
    "    sum=sum+int(i)\n",
    "if(N%sum==0):\n",
    "    print(N,\"is harshad number\")\n",
    "else:\n",
    "    print(N,\"is not harshad number\")"
   ]
  },
  {
   "cell_type": "code",
   "execution_count": 17,
   "metadata": {},
   "outputs": [
    {
     "name": "stdout",
     "output_type": "stream",
     "text": [
      "2\n",
      "3\n",
      "5\n",
      "7\n",
      "11\n",
      "13\n"
     ]
    }
   ],
   "source": [
    "N=15\n",
    "\n",
    "for i in range(2,N):\n",
    "    count=0\n",
    "    \n",
    "    for j in range(2,i):\n",
    "        if(i%j==0):\n",
    "            count+=1\n",
    "    if(count==0):\n",
    "        print(i)"
   ]
  },
  {
   "cell_type": "code",
   "execution_count": 19,
   "metadata": {},
   "outputs": [
    {
     "name": "stdout",
     "output_type": "stream",
     "text": [
      "['o', 'u', 'i', 'a'] ['m', 'n', 'k']\n"
     ]
    }
   ],
   "source": [
    "#vowels\n",
    "name=\"Mounika\"\n",
    "vowels=['a','e','i','o','u']\n",
    "name1=name.lower()\n",
    "vo=[]\n",
    "co=[]\n",
    "for i in name1:\n",
    "    if(i in vowels):\n",
    "        vo.append(i)\n",
    "    else:\n",
    "        co.append(i)\n",
    "print(vo,co)\n"
   ]
  },
  {
   "cell_type": "code",
   "execution_count": 6,
   "metadata": {},
   "outputs": [
    {
     "name": "stdout",
     "output_type": "stream",
     "text": [
      "ym eman si akinuom\n",
      "['ym', 'eman', 'si', 'akinuom']\n"
     ]
    }
   ],
   "source": [
    "s=\"my name is mounika\"\n",
    "s=s.split(\" \")\n",
    "s1=[]\n",
    "for i in s:\n",
    "    a=''\n",
    "    for j in i:\n",
    "        a=j+a\n",
    "    s1.append(a)\n",
    "print(' '.join(s1))\n",
    "print(s1)\n"
   ]
  },
  {
   "cell_type": "code",
   "execution_count": 9,
   "metadata": {},
   "outputs": [
    {
     "name": "stdout",
     "output_type": "stream",
     "text": [
      "Yes\n",
      "['a', 'b', 'c', 'd']\n",
      "['a', 'b', 'c', 'd']\n"
     ]
    }
   ],
   "source": [
    "#anagrams\n",
    "a=\"abcd\"\n",
    "b=\"dcab\"\n",
    "ana1=list(a)\n",
    "ana1.sort()\n",
    "ana2=list(b)\n",
    "ana2.sort()\n",
    "count=0\n",
    "for i in range(len(a)-1):\n",
    "    if(ana1[i]!=ana2[i]):\n",
    "        print(\"No\")\n",
    "    count+=1\n",
    "if(count==len(a)-1):\n",
    "    print(\"Yes\")\n",
    "print(ana1)\n",
    "print(ana2)"
   ]
  },
  {
   "cell_type": "code",
   "execution_count": 16,
   "metadata": {},
   "outputs": [
    {
     "name": "stdout",
     "output_type": "stream",
     "text": [
      "Yes\n"
     ]
    }
   ],
   "source": [
    "str1='Silent'.lower()\n",
    "str2='Listen'.lower()\n",
    "\n",
    "if(sorted(str1)==sorted(str2)):\n",
    "    print('Yes')\n",
    "else:\n",
    "    print('No')"
   ]
  },
  {
   "cell_type": "code",
   "execution_count": 24,
   "metadata": {},
   "outputs": [
    {
     "name": "stdout",
     "output_type": "stream",
     "text": [
      "[1, 2, 3, 3, 4, 4, 5, 6, 7]\n"
     ]
    }
   ],
   "source": [
    "#merge sorted lists\n",
    "def sorted_lists(a,b):\n",
    "    a.extend(b)\n",
    "    a.sort()\n",
    "    return a\n",
    "\n",
    "print(sorted_lists([1,2,3,4],[3,4,5,6,7]))"
   ]
  },
  {
   "cell_type": "code",
   "execution_count": 26,
   "metadata": {},
   "outputs": [
    {
     "data": {
      "text/plain": [
       "2"
      ]
     },
     "execution_count": 26,
     "metadata": {},
     "output_type": "execute_result"
    }
   ],
   "source": [
    "#count\n",
    "a=\"kjsdfhkdh9374r98jbddvvf\"\n",
    "a.count('v')"
   ]
  },
  {
   "cell_type": "code",
   "execution_count": 29,
   "metadata": {},
   "outputs": [
    {
     "name": "stdout",
     "output_type": "stream",
     "text": [
      "4\n"
     ]
    }
   ],
   "source": [
    "#missing number\n",
    "a=[1,2,3,5,6,7]\n",
    "n=len(a)+1\n",
    "total_sum=int(n*(n+1)/2)\n",
    "actual_sum=sum(a)\n",
    "missing_letter=total_sum-actual_sum\n",
    "print(missing_letter)\n"
   ]
  },
  {
   "cell_type": "code",
   "execution_count": 32,
   "metadata": {},
   "outputs": [
    {
     "name": "stdout",
     "output_type": "stream",
     "text": [
      "[5, 5, 7, 9]\n"
     ]
    }
   ],
   "source": [
    "#duplicates in a array\n",
    "a=[9,3,4,7,5,7,5,9,5,0]\n",
    "a.sort()\n",
    "dup=[]\n",
    "for i in range(1,len(a)):\n",
    "    if(a[i]==a[i-1]):\n",
    "        dup.append(a[i])\n",
    "print(dup)"
   ]
  },
  {
   "cell_type": "code",
   "execution_count": 33,
   "metadata": {},
   "outputs": [
    {
     "name": "stdout",
     "output_type": "stream",
     "text": [
      "0\n",
      "1\n",
      "1\n",
      "2\n",
      "3\n",
      "5\n",
      "8\n",
      "13\n",
      "21\n",
      "34\n"
     ]
    }
   ],
   "source": [
    "#fatorial\n",
    "n=10\n",
    "a=0\n",
    "b=1\n",
    "sum=0\n",
    "for i in range(n):\n",
    "    print(a)\n",
    "    sum=a+b\n",
    "    a=b\n",
    "    b=sum"
   ]
  }
 ],
 "metadata": {
  "kernelspec": {
   "display_name": "Python 3",
   "language": "python",
   "name": "python3"
  },
  "language_info": {
   "codemirror_mode": {
    "name": "ipython",
    "version": 3
   },
   "file_extension": ".py",
   "mimetype": "text/x-python",
   "name": "python",
   "nbconvert_exporter": "python",
   "pygments_lexer": "ipython3",
   "version": "3.11.5"
  }
 },
 "nbformat": 4,
 "nbformat_minor": 2
}
