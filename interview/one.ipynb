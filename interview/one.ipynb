{
 "cells": [
  {
   "cell_type": "code",
   "execution_count": 6,
   "metadata": {},
   "outputs": [
    {
     "name": "stdout",
     "output_type": "stream",
     "text": [
      "123 is palindrome of 321\n"
     ]
    }
   ],
   "source": [
    "#palindrome\n",
    "a=\"123\"\n",
    "b=\"321\"\n",
    "c=\"\"\n",
    "for i in b:\n",
    "    c=i+c\n",
    "if(c==a):\n",
    "    print(a, \"is palindrome of\",b)"
   ]
  },
  {
   "cell_type": "code",
   "execution_count": 8,
   "metadata": {},
   "outputs": [
    {
     "name": "stdout",
     "output_type": "stream",
     "text": [
      "6\n"
     ]
    }
   ],
   "source": [
    "#Factorial\n",
    "def factorial(n):\n",
    "    if(n==1):\n",
    "        fact=1\n",
    "    if(n>1):\n",
    "        fact=n*factorial(n-1)\n",
    "    return fact\n",
    "\n",
    "n=3\n",
    "fact=1\n",
    "output=factorial(n)\n",
    "print(output)"
   ]
  },
  {
   "cell_type": "code",
   "execution_count": 12,
   "metadata": {},
   "outputs": [
    {
     "name": "stdout",
     "output_type": "stream",
     "text": [
      "153 is armstrong number\n"
     ]
    }
   ],
   "source": [
    "#armstrong number\n",
    "N=int(input())\n",
    "l=len(str(N))\n",
    "sum=0\n",
    "for i in str(N):\n",
    "    sum=int(i)**l+sum\n",
    "if(sum==N):\n",
    "    print(N, \"is armstrong number\")\n",
    "else:\n",
    "    print(N, \"is not a armstrong number\")\n"
   ]
  },
  {
   "cell_type": "code",
   "execution_count": 16,
   "metadata": {},
   "outputs": [
    {
     "name": "stdout",
     "output_type": "stream",
     "text": [
      "the random number is 23\n"
     ]
    }
   ],
   "source": [
    "#random number\n",
    "import random\n",
    "rand=random.randint(1,100)\n",
    "print(\"the random number is\",rand)"
   ]
  },
  {
   "cell_type": "code",
   "execution_count": 17,
   "metadata": {},
   "outputs": [
    {
     "name": "stdout",
     "output_type": "stream",
     "text": [
      "ASCII values for uppercase letters:\n",
      "A: 65\n",
      "B: 66\n",
      "C: 67\n",
      "D: 68\n",
      "E: 69\n",
      "F: 70\n",
      "G: 71\n",
      "H: 72\n",
      "I: 73\n",
      "J: 74\n",
      "K: 75\n",
      "L: 76\n",
      "M: 77\n",
      "N: 78\n",
      "O: 79\n",
      "P: 80\n",
      "Q: 81\n",
      "R: 82\n",
      "S: 83\n",
      "T: 84\n",
      "U: 85\n",
      "V: 86\n",
      "W: 87\n",
      "X: 88\n",
      "Y: 89\n",
      "Z: 90\n",
      "\n",
      "ASCII values for lowercase letters:\n",
      "a: 97\n",
      "b: 98\n",
      "c: 99\n",
      "d: 100\n",
      "e: 101\n",
      "f: 102\n",
      "g: 103\n",
      "h: 104\n",
      "i: 105\n",
      "j: 106\n",
      "k: 107\n",
      "l: 108\n",
      "m: 109\n",
      "n: 110\n",
      "o: 111\n",
      "p: 112\n",
      "q: 113\n",
      "r: 114\n",
      "s: 115\n",
      "t: 116\n",
      "u: 117\n",
      "v: 118\n",
      "w: 119\n",
      "x: 120\n",
      "y: 121\n",
      "z: 122\n",
      "\n",
      "ASCII values for digits:\n",
      "0: 48\n",
      "1: 49\n",
      "2: 50\n",
      "3: 51\n",
      "4: 52\n",
      "5: 53\n",
      "6: 54\n",
      "7: 55\n",
      "8: 56\n",
      "9: 57\n"
     ]
    }
   ],
   "source": [
    "#ascii values\n",
    "\n",
    "print(\"ASCII values for uppercase letters:\")\n",
    "for char in range(65, 91):\n",
    "    print(f\"{chr(char)}: {char}\")\n",
    "\n",
    "# Print ASCII values for lowercase letters\n",
    "print(\"\\nASCII values for lowercase letters:\")\n",
    "for char in range(97, 123):\n",
    "    print(f\"{chr(char)}: {char}\")\n",
    "\n",
    "# Print ASCII values for digits\n",
    "print(\"\\nASCII values for digits:\")\n",
    "for char in range(48, 58):\n",
    "    print(f\"{chr(char)}: {char}\")"
   ]
  },
  {
   "cell_type": "code",
   "execution_count": 19,
   "metadata": {},
   "outputs": [
    {
     "name": "stdout",
     "output_type": "stream",
     "text": [
      "87\n"
     ]
    }
   ],
   "source": [
    "num1=87\n",
    "str=chr(num1)\n",
    "print(ord(str))\n"
   ]
  }
 ],
 "metadata": {
  "kernelspec": {
   "display_name": "Python 3",
   "language": "python",
   "name": "python3"
  },
  "language_info": {
   "codemirror_mode": {
    "name": "ipython",
    "version": 3
   },
   "file_extension": ".py",
   "mimetype": "text/x-python",
   "name": "python",
   "nbconvert_exporter": "python",
   "pygments_lexer": "ipython3",
   "version": "3.11.5"
  }
 },
 "nbformat": 4,
 "nbformat_minor": 2
}
