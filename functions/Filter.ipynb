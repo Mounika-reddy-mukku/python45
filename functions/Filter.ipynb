{
 "cells": [
  {
   "cell_type": "code",
   "execution_count": 1,
   "id": "7657cae9-c3e7-4ece-84d6-cb9340459069",
   "metadata": {},
   "outputs": [
    {
     "name": "stdout",
     "output_type": "stream",
     "text": [
      "[2, 4, 6, 8, 10]\n"
     ]
    }
   ],
   "source": [
    "#Filter \n",
    "L=[1,2,3,4,5,6,7,8,9,10]\n",
    "def even(num):\n",
    "    return num%2==0\n",
    "print(list(filter(even,L)))"
   ]
  },
  {
   "cell_type": "code",
   "execution_count": 5,
   "id": "8a95406d-c332-4dae-adba-6f309a825244",
   "metadata": {},
   "outputs": [
    {
     "name": "stdout",
     "output_type": "stream",
     "text": [
      "[2, 4, 6, 8, 10]\n"
     ]
    }
   ],
   "source": [
    "#using lambda function\n",
    "L=[1,2,3,4,5,6,7,8,9,10]\n",
    "even=lambda num : num%2==0\n",
    "print(list(filter(even,L)))\n"
   ]
  },
  {
   "cell_type": "code",
   "execution_count": 6,
   "id": "981cfaa5-bebb-477c-ba42-73ca1439076c",
   "metadata": {},
   "outputs": [
    {
     "name": "stdout",
     "output_type": "stream",
     "text": [
      "[False, True, False, True, False, True, False, True, False, True]\n"
     ]
    }
   ],
   "source": [
    "#using lambda function\n",
    "L=[1,2,3,4,5,6,7,8,9,10]\n",
    "even=lambda num : num%2==0\n",
    "print(list(map(even,L)))"
   ]
  },
  {
   "cell_type": "code",
   "execution_count": null,
   "id": "8556fa3d-d5af-4365-8e7d-c171d0e55164",
   "metadata": {},
   "outputs": [],
   "source": []
  }
 ],
 "metadata": {
  "kernelspec": {
   "display_name": "Python 3 (ipykernel)",
   "language": "python",
   "name": "python3"
  },
  "language_info": {
   "codemirror_mode": {
    "name": "ipython",
    "version": 3
   },
   "file_extension": ".py",
   "mimetype": "text/x-python",
   "name": "python",
   "nbconvert_exporter": "python",
   "pygments_lexer": "ipython3",
   "version": "3.11.5"
  }
 },
 "nbformat": 4,
 "nbformat_minor": 5
}
