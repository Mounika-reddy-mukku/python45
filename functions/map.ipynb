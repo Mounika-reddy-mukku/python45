{
 "cells": [
  {
   "cell_type": "code",
   "execution_count": 2,
   "id": "ba594f9c-05e2-493d-831c-d1c15bbcc03c",
   "metadata": {},
   "outputs": [
    {
     "name": "stdout",
     "output_type": "stream",
     "text": [
      "[99, 199, 299, 399]\n"
     ]
    }
   ],
   "source": [
    "#normal \n",
    "prices=[98,198,298,398]\n",
    "new_prices=[]\n",
    "for price in prices:\n",
    "    new_prices.append(price+1)\n",
    "print(new_prices)\n"
   ]
  },
  {
   "cell_type": "code",
   "execution_count": 8,
   "id": "1a928e46-dfa9-4b8a-b420-416561de4e57",
   "metadata": {},
   "outputs": [
    {
     "name": "stdout",
     "output_type": "stream",
     "text": [
      "<map object at 0x0000020207068F70>\n"
     ]
    }
   ],
   "source": [
    "#Using map\n",
    "prices=[98,198,298,398]\n",
    "def addone(price):\n",
    "    return price+1\n",
    "map1=map(addone, prices)\n",
    "print(map1)\n"
   ]
  },
  {
   "cell_type": "code",
   "execution_count": 1,
   "id": "3a0071ff-7428-43bf-990b-ecc7206dc1b8",
   "metadata": {},
   "outputs": [
    {
     "name": "stdout",
     "output_type": "stream",
     "text": [
      "[99, 199, 299, 399]\n"
     ]
    }
   ],
   "source": [
    "prices=[98,198,298,398]\n",
    "def addone(price):\n",
    "    return price+1\n",
    "map1=list(map(addone, prices))\n",
    "print(map1)\n"
   ]
  },
  {
   "cell_type": "code",
   "execution_count": 3,
   "id": "23d90a41-fef9-4c30-9ea5-567a76cf01a9",
   "metadata": {},
   "outputs": [
    {
     "name": "stdout",
     "output_type": "stream",
     "text": [
      "[99, 199, 299, 399]\n"
     ]
    }
   ],
   "source": [
    "prices=[98,198,298,398]\n",
    "addone= lambda price : price+1\n",
    "print(list(map(addone,prices)))"
   ]
  },
  {
   "cell_type": "code",
   "execution_count": 4,
   "id": "ed1faca8-a6cd-464d-bc8f-ce883c882175",
   "metadata": {},
   "outputs": [
    {
     "name": "stdout",
     "output_type": "stream",
     "text": [
      "[2, 4, 6, 8, 10, 12, 14]\n"
     ]
    }
   ],
   "source": [
    "#Double the set\n",
    "L=[1,2,3,4,5,6,7]\n",
    "double= lambda x:x*2\n",
    "print(list(map(double,L)))"
   ]
  },
  {
   "cell_type": "code",
   "execution_count": 5,
   "id": "5a9ae6ee-98c9-489e-839b-f17377ab6b77",
   "metadata": {},
   "outputs": [
    {
     "name": "stdout",
     "output_type": "stream",
     "text": [
      "(2, 4, 6, 8, 10, 12, 14)\n"
     ]
    }
   ],
   "source": [
    "L=[1,2,3,4,5,6,7]\n",
    "def double(x):\n",
    "    return x*2\n",
    "print(tuple(map(double,L)))"
   ]
  },
  {
   "cell_type": "code",
   "execution_count": 2,
   "id": "7e0bc5df-63de-47aa-b145-c52785cc0dd3",
   "metadata": {},
   "outputs": [
    {
     "name": "stdout",
     "output_type": "stream",
     "text": [
      "[99, 199, 299, 399]\n"
     ]
    }
   ],
   "source": [
    "prices=[98,198,298,398]\n",
    "def func(num): #fun=lambda num : num+1\n",
    "    return num+1\n",
    "\n",
    "print(list(map(func,prices)))"
   ]
  },
  {
   "cell_type": "code",
   "execution_count": 6,
   "id": "50e999e0-8f1e-40a4-bf1b-4377bf4c7271",
   "metadata": {},
   "outputs": [
    {
     "name": "stdout",
     "output_type": "stream",
     "text": [
      "[99, 199, 299, 399]\n"
     ]
    }
   ],
   "source": [
    "prices=[98,198,298,398]\n",
    "func=lambda num : num+1\n",
    "print(list(map(func,prices)))"
   ]
  },
  {
   "cell_type": "code",
   "execution_count": 5,
   "id": "af2a66d8-b82d-41fd-910d-2b15ee41a665",
   "metadata": {},
   "outputs": [
    {
     "name": "stdout",
     "output_type": "stream",
     "text": [
      "11\n"
     ]
    }
   ],
   "source": [
    "func=lambda num : num+1\n",
    "print(func(10))\n"
   ]
  },
  {
   "cell_type": "code",
   "execution_count": null,
   "id": "fd36e048-5850-44b1-a309-217ee8966ec4",
   "metadata": {},
   "outputs": [],
   "source": []
  }
 ],
 "metadata": {
  "kernelspec": {
   "display_name": "Python 3 (ipykernel)",
   "language": "python",
   "name": "python3"
  },
  "language_info": {
   "codemirror_mode": {
    "name": "ipython",
    "version": 3
   },
   "file_extension": ".py",
   "mimetype": "text/x-python",
   "name": "python",
   "nbconvert_exporter": "python",
   "pygments_lexer": "ipython3",
   "version": "3.11.5"
  }
 },
 "nbformat": 4,
 "nbformat_minor": 5
}
