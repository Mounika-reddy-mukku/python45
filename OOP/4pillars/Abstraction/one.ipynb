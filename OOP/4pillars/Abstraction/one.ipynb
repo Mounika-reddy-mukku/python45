{
 "cells": [
  {
   "cell_type": "code",
   "execution_count": 1,
   "metadata": {},
   "outputs": [
    {
     "ename": "TypeError",
     "evalue": "Can't instantiate abstract class Account with abstract method obj_creation",
     "output_type": "error",
     "traceback": [
      "\u001b[1;31m---------------------------------------------------------------------------\u001b[0m",
      "\u001b[1;31mTypeError\u001b[0m                                 Traceback (most recent call last)",
      "\u001b[1;32mc:\\Users\\madha\\OneDrive\\Desktop\\python45\\OOP\\4pillars\\Abstraction\\one.ipynb Cell 1\u001b[0m line \u001b[0;36m8\n\u001b[0;32m      <a href='vscode-notebook-cell:/c%3A/Users/madha/OneDrive/Desktop/python45/OOP/4pillars/Abstraction/one.ipynb#W0sZmlsZQ%3D%3D?line=5'>6</a>\u001b[0m     \u001b[39mdef\u001b[39;00m \u001b[39minstance\u001b[39m(\u001b[39mself\u001b[39m):\n\u001b[0;32m      <a href='vscode-notebook-cell:/c%3A/Users/madha/OneDrive/Desktop/python45/OOP/4pillars/Abstraction/one.ipynb#W0sZmlsZQ%3D%3D?line=6'>7</a>\u001b[0m         \u001b[39mprint\u001b[39m(\u001b[39m\"\u001b[39m\u001b[39mHello\u001b[39m\u001b[39m\"\u001b[39m)\n\u001b[1;32m----> <a href='vscode-notebook-cell:/c%3A/Users/madha/OneDrive/Desktop/python45/OOP/4pillars/Abstraction/one.ipynb#W0sZmlsZQ%3D%3D?line=7'>8</a>\u001b[0m Account()\n",
      "\u001b[1;31mTypeError\u001b[0m: Can't instantiate abstract class Account with abstract method obj_creation"
     ]
    }
   ],
   "source": [
    "from abc import *\n",
    "class Account(ABC):\n",
    "    @abstractmethod\n",
    "    def obj_creation():\n",
    "        print(\"Object is created\")\n",
    "    def instance(self):\n",
    "        print(\"Hello\")\n",
    "Account()"
   ]
  },
  {
   "cell_type": "code",
   "execution_count": 2,
   "metadata": {},
   "outputs": [
    {
     "data": {
      "text/plain": [
       "<__main__.Account at 0x2b56ece0590>"
      ]
     },
     "execution_count": 2,
     "metadata": {},
     "output_type": "execute_result"
    }
   ],
   "source": [
    "from abc import *\n",
    "class Account(ABC):\n",
    "    \n",
    "    def obj_creation():\n",
    "        print(\"Object is created\")\n",
    "    def instance(self):\n",
    "        print(\"Hello\")\n",
    "Account()"
   ]
  },
  {
   "cell_type": "code",
   "execution_count": null,
   "metadata": {},
   "outputs": [],
   "source": [
    "#Any class having ABC as parent class and containing atleast one @abstractionmethod can't create the object"
   ]
  }
 ],
 "metadata": {
  "kernelspec": {
   "display_name": "Python 3",
   "language": "python",
   "name": "python3"
  },
  "language_info": {
   "codemirror_mode": {
    "name": "ipython",
    "version": 3
   },
   "file_extension": ".py",
   "mimetype": "text/x-python",
   "name": "python",
   "nbconvert_exporter": "python",
   "pygments_lexer": "ipython3",
   "version": "3.11.5"
  }
 },
 "nbformat": 4,
 "nbformat_minor": 2
}
