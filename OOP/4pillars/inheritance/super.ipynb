{
 "cells": [
  {
   "cell_type": "code",
   "execution_count": 1,
   "metadata": {},
   "outputs": [
    {
     "name": "stdout",
     "output_type": "stream",
     "text": [
      "{'eid': 101, 'ename': 'Mounika', 'esal': 45000, 'eloc': 'Bangalore'}\n"
     ]
    }
   ],
   "source": [
    "class account:\n",
    "    def __init__(self,id,name):\n",
    "        self.eid=id\n",
    "        self.ename=name\n",
    "class SA(account):\n",
    "    def __init__(self,id,name,sal):\n",
    "        super().__init__(id,name)\n",
    "        self.esal=sal\n",
    "        self.eloc=\"Bangalore\"\n",
    "obj=SA(101,\"Mounika\",45000)\n",
    "print(obj.__dict__)"
   ]
  },
  {
   "cell_type": "code",
   "execution_count": 8,
   "metadata": {},
   "outputs": [
    {
     "ename": "TypeError",
     "evalue": "object.__init__() takes exactly one argument (the instance to initialize)",
     "output_type": "error",
     "traceback": [
      "\u001b[1;31m---------------------------------------------------------------------------\u001b[0m",
      "\u001b[1;31mTypeError\u001b[0m                                 Traceback (most recent call last)",
      "\u001b[1;32mc:\\Users\\madha\\OneDrive\\Desktop\\python45\\OOP\\4pillars\\inheritance\\super.ipynb Cell 2\u001b[0m line \u001b[0;36m1\n\u001b[0;32m     <a href='vscode-notebook-cell:/c%3A/Users/madha/OneDrive/Desktop/python45/OOP/4pillars/inheritance/super.ipynb#W1sZmlsZQ%3D%3D?line=16'>17</a>\u001b[0m     \u001b[39mdef\u001b[39;00m \u001b[39marea\u001b[39m(\u001b[39mself\u001b[39m):\n\u001b[0;32m     <a href='vscode-notebook-cell:/c%3A/Users/madha/OneDrive/Desktop/python45/OOP/4pillars/inheritance/super.ipynb#W1sZmlsZQ%3D%3D?line=17'>18</a>\u001b[0m         \u001b[39mreturn\u001b[39;00m \u001b[39mself\u001b[39m\u001b[39m.\u001b[39mbase \u001b[39m*\u001b[39m \u001b[39mself\u001b[39m\u001b[39m.\u001b[39mheight\n\u001b[1;32m---> <a href='vscode-notebook-cell:/c%3A/Users/madha/OneDrive/Desktop/python45/OOP/4pillars/inheritance/super.ipynb#W1sZmlsZQ%3D%3D?line=18'>19</a>\u001b[0m obj\u001b[39m=\u001b[39mRightPyramid(\u001b[39m10\u001b[39;49m,\u001b[39m20\u001b[39;49m,\u001b[39m30\u001b[39;49m)\n",
      "\u001b[1;32mc:\\Users\\madha\\OneDrive\\Desktop\\python45\\OOP\\4pillars\\inheritance\\super.ipynb Cell 2\u001b[0m line \u001b[0;36m1\n\u001b[0;32m     <a href='vscode-notebook-cell:/c%3A/Users/madha/OneDrive/Desktop/python45/OOP/4pillars/inheritance/super.ipynb#W1sZmlsZQ%3D%3D?line=9'>10</a>\u001b[0m \u001b[39mdef\u001b[39;00m \u001b[39m__init__\u001b[39m(\u001b[39mself\u001b[39m, base, height, side):\n\u001b[1;32m---> <a href='vscode-notebook-cell:/c%3A/Users/madha/OneDrive/Desktop/python45/OOP/4pillars/inheritance/super.ipynb#W1sZmlsZQ%3D%3D?line=10'>11</a>\u001b[0m     \u001b[39msuper\u001b[39;49m()\u001b[39m.\u001b[39;49m\u001b[39m__init__\u001b[39;49m(base, height)\n\u001b[0;32m     <a href='vscode-notebook-cell:/c%3A/Users/madha/OneDrive/Desktop/python45/OOP/4pillars/inheritance/super.ipynb#W1sZmlsZQ%3D%3D?line=11'>12</a>\u001b[0m     \u001b[39msuper\u001b[39m()\u001b[39m.\u001b[39m\u001b[39m__init__\u001b[39m(side)\n",
      "\u001b[1;31mTypeError\u001b[0m: object.__init__() takes exactly one argument (the instance to initialize)"
     ]
    }
   ],
   "source": [
    "\n"
   ]
  }
 ],
 "metadata": {
  "kernelspec": {
   "display_name": "Python 3",
   "language": "python",
   "name": "python3"
  },
  "language_info": {
   "codemirror_mode": {
    "name": "ipython",
    "version": 3
   },
   "file_extension": ".py",
   "mimetype": "text/x-python",
   "name": "python",
   "nbconvert_exporter": "python",
   "pygments_lexer": "ipython3",
   "version": "3.11.5"
  }
 },
 "nbformat": 4,
 "nbformat_minor": 2
}
