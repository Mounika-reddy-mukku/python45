{
 "cells": [
  {
   "cell_type": "code",
   "execution_count": 2,
   "metadata": {},
   "outputs": [
    {
     "name": "stdout",
     "output_type": "stream",
     "text": [
      "grand Parent class m1 method\n",
      "grand parent class m2 method\n",
      "parent class m3 method\n",
      "child class m4 method\n"
     ]
    }
   ],
   "source": [
    "class grandparent:\n",
    "    def m1(self):\n",
    "        print(\"grand Parent class m1 method\")\n",
    "    def m2(self):\n",
    "        print(\"grand parent class m2 method\")\n",
    "class parent(grandparent):\n",
    "    def m3(self):\n",
    "        print(\"parent class m3 method\")\n",
    "class child(parent):\n",
    "    def m4(self):\n",
    "        print(\"child class m4 method\")\n",
    "c1=child()\n",
    "c1.m1()\n",
    "c1.m2()\n",
    "c1.m3()\n",
    "c1.m4()"
   ]
  },
  {
   "cell_type": "code",
   "execution_count": 5,
   "metadata": {},
   "outputs": [
    {
     "name": "stdout",
     "output_type": "stream",
     "text": [
      "grand Parent class m1 method\n",
      "grand parent class m2 method\n",
      "parent1 class m3 method\n",
      "parent2 class m4 method\n",
      "child class m5 method\n"
     ]
    }
   ],
   "source": [
    "class grandparent:\n",
    "    def m1(self):\n",
    "        print(\"grand Parent class m1 method\")\n",
    "    def m2(self):\n",
    "        print(\"grand parent class m2 method\")\n",
    "class parent1(grandparent):\n",
    "    def m3(self):\n",
    "        print(\"parent1 class m3 method\")\n",
    "class parent2:\n",
    "    def m4(self):\n",
    "        print(\"parent2 class m4 method\")\n",
    "class child(parent1,parent2):\n",
    "    def m5(self):\n",
    "        print(\"child class m5 method\")\n",
    "c1=child()\n",
    "c1.m1()\n",
    "c1.m2()\n",
    "c1.m3()\n",
    "c1.m4()\n",
    "c1.m5()"
   ]
  }
 ],
 "metadata": {
  "kernelspec": {
   "display_name": "Python 3",
   "language": "python",
   "name": "python3"
  },
  "language_info": {
   "codemirror_mode": {
    "name": "ipython",
    "version": 3
   },
   "file_extension": ".py",
   "mimetype": "text/x-python",
   "name": "python",
   "nbconvert_exporter": "python",
   "pygments_lexer": "ipython3",
   "version": "3.11.5"
  }
 },
 "nbformat": 4,
 "nbformat_minor": 2
}
