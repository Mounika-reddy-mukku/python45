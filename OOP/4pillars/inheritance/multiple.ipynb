{
 "cells": [
  {
   "cell_type": "code",
   "execution_count": 3,
   "metadata": {},
   "outputs": [
    {
     "name": "stdout",
     "output_type": "stream",
     "text": [
      "Parent1 class m1 method\n",
      "parent1 class m2 method\n",
      "parent2 class m3 method\n",
      "child class m4 method\n"
     ]
    }
   ],
   "source": [
    "class parent1:\n",
    "    def m1(self):\n",
    "        print(\"Parent1 class m1 method\")\n",
    "    def m2(self):\n",
    "        print(\"parent1 class m2 method\")\n",
    "class parent2:\n",
    "    def m3(self):\n",
    "        print(\"parent2 class m3 method\")\n",
    "class child(parent1,parent2):\n",
    "    def m4(self):\n",
    "        print(\"child class m4 method\")\n",
    "c1=child()\n",
    "c1.m1()\n",
    "c1.m2()\n",
    "c1.m3()\n",
    "c1.m4()\n"
   ]
  },
  {
   "cell_type": "code",
   "execution_count": 4,
   "metadata": {},
   "outputs": [
    {
     "name": "stdout",
     "output_type": "stream",
     "text": [
      "Parent1 class m1 method\n",
      "parent1 class m2 method\n",
      "child class m4 method\n"
     ]
    }
   ],
   "source": [
    "#in multiple inheritance order of method is important\n",
    "class parent1:\n",
    "    def m1(self):\n",
    "        print(\"Parent1 class m1 method\")\n",
    "    def m2(self):\n",
    "        print(\"parent1 class m2 method\")\n",
    "class parent2:\n",
    "    def m1(self):\n",
    "        print(\"parent2 class m1 method\")\n",
    "class child(parent1,parent2):\n",
    "    def m4(self):\n",
    "        print(\"child class m4 method\")\n",
    "c1=child()\n",
    "c1.m1()\n",
    "c1.m2()\n",
    "c1.m4()"
   ]
  },
  {
   "cell_type": "code",
   "execution_count": 5,
   "metadata": {},
   "outputs": [
    {
     "name": "stdout",
     "output_type": "stream",
     "text": [
      "parent2 class m1 method\n",
      "parent1 class m2 method\n",
      "child class m4 method\n"
     ]
    }
   ],
   "source": [
    "class parent1:\n",
    "    def m1(self):\n",
    "        print(\"Parent1 class m1 method\")\n",
    "    def m2(self):\n",
    "        print(\"parent1 class m2 method\")\n",
    "class parent2:\n",
    "    def m1(self):\n",
    "        print(\"parent2 class m1 method\")\n",
    "class child(parent2,parent1):\n",
    "    def m4(self):\n",
    "        print(\"child class m4 method\")\n",
    "c1=child()\n",
    "c1.m1()\n",
    "c1.m2()\n",
    "c1.m4()"
   ]
  }
 ],
 "metadata": {
  "kernelspec": {
   "display_name": "Python 3",
   "language": "python",
   "name": "python3"
  },
  "language_info": {
   "codemirror_mode": {
    "name": "ipython",
    "version": 3
   },
   "file_extension": ".py",
   "mimetype": "text/x-python",
   "name": "python",
   "nbconvert_exporter": "python",
   "pygments_lexer": "ipython3",
   "version": "3.11.5"
  }
 },
 "nbformat": 4,
 "nbformat_minor": 2
}
