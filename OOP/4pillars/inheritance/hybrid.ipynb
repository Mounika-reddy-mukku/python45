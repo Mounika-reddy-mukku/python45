{
 "cells": [
  {
   "cell_type": "code",
   "execution_count": 4,
   "metadata": {},
   "outputs": [
    {
     "name": "stdout",
     "output_type": "stream",
     "text": [
      "{}\n",
      "grandp1 class m1 method\n",
      "grandp2 class m2 method\n",
      "Parent class m3 method\n",
      "child m4 method\n"
     ]
    }
   ],
   "source": [
    "class grandp1:\n",
    "    def m1(self):\n",
    "         print(\"grandp1 class m1 method\")\n",
    "class grandp2:\n",
    "    def m2(self):\n",
    "         print(\"grandp2 class m2 method\")\n",
    "class parent(grandp1,grandp2):\n",
    "     def m3(self):\n",
    "          print(\"Parent class m3 method\")\n",
    "class child(parent):\n",
    "     def m4(self):\n",
    "          print(\"child m4 method\")\n",
    "obj=child()\n",
    "print(obj.__dict__)\n",
    "obj.m1()\n",
    "obj.m2()\n",
    "obj.m3()\n",
    "obj.m4()\n",
    "\n"
   ]
  }
 ],
 "metadata": {
  "kernelspec": {
   "display_name": "Python 3",
   "language": "python",
   "name": "python3"
  },
  "language_info": {
   "codemirror_mode": {
    "name": "ipython",
    "version": 3
   },
   "file_extension": ".py",
   "mimetype": "text/x-python",
   "name": "python",
   "nbconvert_exporter": "python",
   "pygments_lexer": "ipython3",
   "version": "3.11.5"
  }
 },
 "nbformat": 4,
 "nbformat_minor": 2
}
