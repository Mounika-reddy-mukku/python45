{
 "cells": [
  {
   "cell_type": "code",
   "execution_count": 1,
   "metadata": {},
   "outputs": [
    {
     "data": {
      "text/plain": [
       "<__main__.child at 0x1bd89110850>"
      ]
     },
     "execution_count": 1,
     "metadata": {},
     "output_type": "execute_result"
    }
   ],
   "source": [
    "#creation of inheritance class\n",
    "class parent:\n",
    "    pass\n",
    "class child(parent):\n",
    "    pass\n",
    "child()"
   ]
  },
  {
   "cell_type": "code",
   "execution_count": 2,
   "metadata": {},
   "outputs": [
    {
     "name": "stdout",
     "output_type": "stream",
     "text": [
      "Parent class\n",
      "child class\n"
     ]
    },
    {
     "data": {
      "text/plain": [
       "<__main__.child at 0x1bd89114510>"
      ]
     },
     "execution_count": 2,
     "metadata": {},
     "output_type": "execute_result"
    }
   ],
   "source": [
    "class parent:\n",
    "    print(\"Parent class\")\n",
    "class child(parent):\n",
    "    print(\"child class\")\n",
    "child()"
   ]
  },
  {
   "cell_type": "code",
   "execution_count": 7,
   "metadata": {},
   "outputs": [
    {
     "data": {
      "text/plain": [
       "<__main__.child at 0x1bd89125010>"
      ]
     },
     "execution_count": 7,
     "metadata": {},
     "output_type": "execute_result"
    }
   ],
   "source": [
    "class parent:\n",
    "    def m1(self):\n",
    "        print(\"Parent class m1 method\")\n",
    "    def m2(self):\n",
    "        print(\"parent class m2 method\")\n",
    "class child(parent):\n",
    "    def m3(self):\n",
    "        print(\"child class m3 method\")\n",
    "child()\n",
    "\n"
   ]
  },
  {
   "cell_type": "code",
   "execution_count": 8,
   "metadata": {},
   "outputs": [
    {
     "name": "stdout",
     "output_type": "stream",
     "text": [
      "Parent class m1 method\n",
      "parent class m2 method\n",
      "child class m3 method\n"
     ]
    }
   ],
   "source": [
    "class parent:\n",
    "    def m1(self):\n",
    "        print(\"Parent class m1 method\")\n",
    "    def m2(self):\n",
    "        print(\"parent class m2 method\")\n",
    "class child(parent):\n",
    "    @classmethod\n",
    "    def m3(cls):\n",
    "        print(\"child class m3 method\")\n",
    "c1=child()\n",
    "c1.m1()\n",
    "c1.m2()\n",
    "c1.m3()"
   ]
  },
  {
   "cell_type": "code",
   "execution_count": 5,
   "metadata": {},
   "outputs": [
    {
     "name": "stdout",
     "output_type": "stream",
     "text": [
      "Parent\n",
      "child\n",
      "{'a': 10, 'b': 20}\n"
     ]
    }
   ],
   "source": [
    "class parent():\n",
    "    def __init__(self,a,b):\n",
    "        self.a=a\n",
    "        self.b=b\n",
    "        print(\"Parent\")\n",
    "class child(parent):\n",
    "    def __init__(self,a,b):\n",
    "        #super().__init__(a,b)\n",
    "        parent.__init__(self,a,b)\n",
    "        self.a=a\n",
    "        self.b=b\n",
    "        print(\"child\")\n",
    "obj=child(10,20)\n",
    "print(obj.__dict__)\n"
   ]
  }
 ],
 "metadata": {
  "kernelspec": {
   "display_name": "Python 3",
   "language": "python",
   "name": "python3"
  },
  "language_info": {
   "codemirror_mode": {
    "name": "ipython",
    "version": 3
   },
   "file_extension": ".py",
   "mimetype": "text/x-python",
   "name": "python",
   "nbconvert_exporter": "python",
   "pygments_lexer": "ipython3",
   "version": "3.11.5"
  }
 },
 "nbformat": 4,
 "nbformat_minor": 2
}
