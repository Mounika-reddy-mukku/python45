{
 "cells": [
  {
   "cell_type": "code",
   "execution_count": 4,
   "metadata": {},
   "outputs": [
    {
     "name": "stdout",
     "output_type": "stream",
     "text": [
      "{'__module__': '__main__', 'min_bal': 500, 'bal': 0, '__init__': <function Account.__init__ at 0x000001370A0FB240>, 'update_min_bal': <staticmethod(<function Account.update_min_bal at 0x000001370A0FB060>)>, '__dict__': <attribute '__dict__' of 'Account' objects>, '__weakref__': <attribute '__weakref__' of 'Account' objects>, '__doc__': None}\n",
      "{'__module__': '__main__', 'min_bal': 1000, 'bal': 6000, '__init__': <function Account.__init__ at 0x000001370A0FB240>, 'update_min_bal': <staticmethod(<function Account.update_min_bal at 0x000001370A0FB060>)>, '__dict__': <attribute '__dict__' of 'Account' objects>, '__weakref__': <attribute '__weakref__' of 'Account' objects>, '__doc__': None}\n"
     ]
    }
   ],
   "source": [
    "class Account:\n",
    "    min_bal=500\n",
    "    bal=0\n",
    "    def __init__(self,id,name):\n",
    "        self.acc_id=id\n",
    "        self.acc_holder=name\n",
    "    @staticmethod\n",
    "    def update_min_bal():\n",
    "        Account.min_bal=1000\n",
    "        Account.bal=6000\n",
    "obj1=Account(101,\"Mounika\")\n",
    "print(Account.__dict__)\n",
    "Account.update_min_bal()\n",
    "print(Account.__dict__)"
   ]
  },
  {
   "cell_type": "code",
   "execution_count": 11,
   "metadata": {},
   "outputs": [
    {
     "name": "stdout",
     "output_type": "stream",
     "text": [
      "2\n",
      "5\n"
     ]
    }
   ],
   "source": [
    "#to know no.of objects created\n",
    "class mainclass:\n",
    "    no_of_obj=0\n",
    "    def __init__(self):\n",
    "        mainclass.no_of_obj=mainclass.no_of_obj+1\n",
    "    @staticmethod\n",
    "    def obj():\n",
    "        return mainclass.no_of_obj \n",
    "   \n",
    "a1=mainclass()\n",
    "a2=mainclass()\n",
    "print(mainclass.no_of_obj)\n",
    "a3=mainclass()\n",
    "a4=mainclass()\n",
    "a5=mainclass()\n",
    "print(mainclass.no_of_obj)"
   ]
  }
 ],
 "metadata": {
  "kernelspec": {
   "display_name": "Python 3",
   "language": "python",
   "name": "python3"
  },
  "language_info": {
   "codemirror_mode": {
    "name": "ipython",
    "version": 3
   },
   "file_extension": ".py",
   "mimetype": "text/x-python",
   "name": "python",
   "nbconvert_exporter": "python",
   "pygments_lexer": "ipython3",
   "version": "3.11.5"
  }
 },
 "nbformat": 4,
 "nbformat_minor": 2
}
