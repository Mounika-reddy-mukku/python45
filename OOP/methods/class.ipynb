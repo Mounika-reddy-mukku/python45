{
 "cells": [
  {
   "cell_type": "code",
   "execution_count": 1,
   "metadata": {},
   "outputs": [
    {
     "name": "stdout",
     "output_type": "stream",
     "text": [
      "{'acc_id': 101, 'acc_holder': 'Mounika'}\n",
      "{'__module__': '__main__', 'min_bal': 500, 'bal': 0, '__init__': <function Account.__init__ at 0x0000019FC0225620>, 'update_bal': <classmethod(<function Account.update_bal at 0x0000019FC02256C0>)>, '__dict__': <attribute '__dict__' of 'Account' objects>, '__weakref__': <attribute '__weakref__' of 'Account' objects>, '__doc__': None}\n",
      "{'__module__': '__main__', 'min_bal': 1000, 'bal': 0, '__init__': <function Account.__init__ at 0x0000019FC0225620>, 'update_bal': <classmethod(<function Account.update_bal at 0x0000019FC02256C0>)>, '__dict__': <attribute '__dict__' of 'Account' objects>, '__weakref__': <attribute '__weakref__' of 'Account' objects>, '__doc__': None}\n"
     ]
    }
   ],
   "source": [
    "class Account:\n",
    "    min_bal=500\n",
    "    bal=0\n",
    "    def __init__(self,id,name):\n",
    "        self.acc_id=id\n",
    "        self.acc_holder=name\n",
    "    @classmethod\n",
    "    def update_bal(cls):\n",
    "        cls.min_bal=1000\n",
    "obj1=Account(101,\"Mounika\")\n",
    "print(obj1.__dict__)\n",
    "print(Account.__dict__)\n",
    "Account.update_bal()\n",
    "print(Account.__dict__)"
   ]
  },
  {
   "cell_type": "code",
   "execution_count": 6,
   "metadata": {},
   "outputs": [
    {
     "name": "stdout",
     "output_type": "stream",
     "text": [
      "{'acc_id': 101, 'acc_holder': 'Mounika'}\n",
      "{'__module__': '__main__', 'min_bal': 500, 'bal': 0, '__init__': <function Account.__init__ at 0x0000019FC02EF060>, 'update_min_bal': <classmethod(<function Account.update_min_bal at 0x0000019FC02EF6A0>)>, 'update_bal': <function Account.update_bal at 0x0000019FC02EF600>, '__dict__': <attribute '__dict__' of 'Account' objects>, '__weakref__': <attribute '__weakref__' of 'Account' objects>, '__doc__': None}\n",
      "{'__module__': '__main__', 'min_bal': 1000, 'bal': 0, '__init__': <function Account.__init__ at 0x0000019FC02EF060>, 'update_min_bal': <classmethod(<function Account.update_min_bal at 0x0000019FC02EF6A0>)>, 'update_bal': <function Account.update_bal at 0x0000019FC02EF600>, '__dict__': <attribute '__dict__' of 'Account' objects>, '__weakref__': <attribute '__weakref__' of 'Account' objects>, '__doc__': None}\n",
      "{'__module__': '__main__', 'min_bal': 1000, 'bal': 5000, '__init__': <function Account.__init__ at 0x0000019FC02EF060>, 'update_min_bal': <classmethod(<function Account.update_min_bal at 0x0000019FC02EF6A0>)>, 'update_bal': <function Account.update_bal at 0x0000019FC02EF600>, '__dict__': <attribute '__dict__' of 'Account' objects>, '__weakref__': <attribute '__weakref__' of 'Account' objects>, '__doc__': None}\n"
     ]
    }
   ],
   "source": [
    "class Account:\n",
    "    min_bal=500\n",
    "    bal=0\n",
    "    def __init__(self,id,name):\n",
    "        self.acc_id=id\n",
    "        self.acc_holder=name\n",
    "    @classmethod\n",
    "    def update_min_bal(cls):\n",
    "        cls.min_bal=1000\n",
    "    def update_bal(self,amount):\n",
    "        Account.bal=self.bal+amount\n",
    "obj1=Account(101,\"Mounika\")\n",
    "print(obj1.__dict__)\n",
    "print(Account.__dict__)\n",
    "Account.update_min_bal()\n",
    "print(Account.__dict__)\n",
    "obj1.update_bal(5000)\n",
    "print(Account.__dict__)"
   ]
  }
 ],
 "metadata": {
  "kernelspec": {
   "display_name": "Python 3",
   "language": "python",
   "name": "python3"
  },
  "language_info": {
   "codemirror_mode": {
    "name": "ipython",
    "version": 3
   },
   "file_extension": ".py",
   "mimetype": "text/x-python",
   "name": "python",
   "nbconvert_exporter": "python",
   "pygments_lexer": "ipython3",
   "version": "3.11.5"
  }
 },
 "nbformat": 4,
 "nbformat_minor": 2
}
