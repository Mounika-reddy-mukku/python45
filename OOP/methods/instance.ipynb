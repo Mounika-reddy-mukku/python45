{
 "cells": [
  {
   "cell_type": "code",
   "execution_count": 2,
   "metadata": {},
   "outputs": [
    {
     "name": "stdout",
     "output_type": "stream",
     "text": [
      "{'a': 10, 'b': 20}\n",
      "{'__module__': '__main__', 'min_bal': 600, 'get_bal': <function account.get_bal at 0x0000028AA83960C0>, '__dict__': <attribute '__dict__' of 'account' objects>, '__weakref__': <attribute '__weakref__' of 'account' objects>, '__doc__': None}\n"
     ]
    }
   ],
   "source": [
    "class account:\n",
    "    min_bal=500\n",
    "    def get_bal(self): #instance class\n",
    "        self.a=10\n",
    "        self.b=20\n",
    "        account.min_bal=600 #accecing static variable through class name \n",
    "a1=account() #object created\n",
    "a1.get_bal()\n",
    "print(a1.__dict__)\n",
    "print(account.__dict__)"
   ]
  },
  {
   "cell_type": "code",
   "execution_count": 3,
   "metadata": {},
   "outputs": [
    {
     "name": "stdout",
     "output_type": "stream",
     "text": [
      "{'id': 101, 'name': 'mounika'}\n"
     ]
    }
   ],
   "source": [
    "class account:\n",
    "    min_bal=500\n",
    "    def get_bal(self,a,b):\n",
    "        self.id=a\n",
    "        self.name=b\n",
    "         \n",
    "obj1=account()\n",
    "obj1.get_bal(101,'mounika')\n",
    "print(obj1.__dict__)\n"
   ]
  }
 ],
 "metadata": {
  "kernelspec": {
   "display_name": "Python 3",
   "language": "python",
   "name": "python3"
  },
  "language_info": {
   "codemirror_mode": {
    "name": "ipython",
    "version": 3
   },
   "file_extension": ".py",
   "mimetype": "text/x-python",
   "name": "python",
   "nbconvert_exporter": "python",
   "pygments_lexer": "ipython3",
   "version": "3.11.5"
  }
 },
 "nbformat": 4,
 "nbformat_minor": 2
}
