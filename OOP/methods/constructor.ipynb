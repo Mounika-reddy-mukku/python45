{
 "cells": [
  {
   "cell_type": "code",
   "execution_count": 3,
   "metadata": {},
   "outputs": [
    {
     "name": "stdout",
     "output_type": "stream",
     "text": [
      "{'id': 101, 'name': 'rahul', 'loc': 'bng'}\n",
      "{'id': 102, 'name': 'sonia', 'loc': 'bng'}\n"
     ]
    }
   ],
   "source": [
    "class emp:\n",
    "    def __init__(self,a,b):\n",
    "        self.id=a\n",
    "        self.name=b\n",
    "        self.loc=\"bng\"\n",
    "obj1=emp(101,\"rahul\")\n",
    "obj2=emp(102,\"sonia\")\n",
    "print(obj1.__dict__)\n",
    "print(obj2.__dict__)\n"
   ]
  },
  {
   "cell_type": "code",
   "execution_count": 4,
   "metadata": {},
   "outputs": [
    {
     "name": "stdout",
     "output_type": "stream",
     "text": [
      "{'id': 101, 'name': 'rahul', 'loc': 'bng'}\n",
      "{'id': 102, 'name': 'sonia', 'loc': 'bng'}\n",
      "{'id': 101, 'name': 'rahul', 'loc': 'bng', 'sal': 45000}\n",
      "{'id': 102, 'name': 'sonia', 'loc': 'bng'}\n"
     ]
    }
   ],
   "source": [
    "class emp:\n",
    "    def __init__(self,a,b):\n",
    "        self.id=a\n",
    "        self.name=b\n",
    "        self.loc=\"bng\"\n",
    "    def update(self,salary):\n",
    "        self.sal=salary\n",
    "\n",
    "obj1=emp(101,\"rahul\")\n",
    "obj2=emp(102,\"sonia\")\n",
    "print(obj1.__dict__)\n",
    "print(obj2.__dict__)\n",
    "obj1.update(45000)\n",
    "print(obj1.__dict__)\n",
    "print(obj2.__dict__)"
   ]
  }
 ],
 "metadata": {
  "kernelspec": {
   "display_name": "Python 3",
   "language": "python",
   "name": "python3"
  },
  "language_info": {
   "codemirror_mode": {
    "name": "ipython",
    "version": 3
   },
   "file_extension": ".py",
   "mimetype": "text/x-python",
   "name": "python",
   "nbconvert_exporter": "python",
   "pygments_lexer": "ipython3",
   "version": "3.11.5"
  }
 },
 "nbformat": 4,
 "nbformat_minor": 2
}
