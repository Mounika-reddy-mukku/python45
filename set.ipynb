{
 "cells": [
  {
   "cell_type": "code",
   "execution_count": 1,
   "id": "b7f0a930-d557-45f5-9059-d971619d6eee",
   "metadata": {},
   "outputs": [
    {
     "name": "stdout",
     "output_type": "stream",
     "text": [
      "<class 'dict'>\n"
     ]
    }
   ],
   "source": [
    "s1={}\n",
    "print(type(s1))"
   ]
  },
  {
   "cell_type": "code",
   "execution_count": 2,
   "id": "dbed884c",
   "metadata": {},
   "outputs": [
    {
     "name": "stdout",
     "output_type": "stream",
     "text": [
      "<class 'set'>\n"
     ]
    }
   ],
   "source": [
    "s1={1,2,3,\"hello\"}\n",
    "print(type(s1))"
   ]
  },
  {
   "cell_type": "code",
   "execution_count": 3,
   "id": "29113894",
   "metadata": {},
   "outputs": [
    {
     "name": "stdout",
     "output_type": "stream",
     "text": [
      "{0, 1, 2, 3, 4}\n"
     ]
    }
   ],
   "source": [
    "s=set(range(5))\n",
    "print(s)"
   ]
  },
  {
   "cell_type": "code",
   "execution_count": 5,
   "id": "1ff33a18",
   "metadata": {},
   "outputs": [
    {
     "name": "stdout",
     "output_type": "stream",
     "text": [
      "{8.5, 'dfbjh', 47}\n"
     ]
    }
   ],
   "source": [
    "s=set([47,'dfbjh',8.5])\n",
    "print(s)"
   ]
  },
  {
   "cell_type": "code",
   "execution_count": 6,
   "id": "84dd0080",
   "metadata": {},
   "outputs": [
    {
     "name": "stdout",
     "output_type": "stream",
     "text": [
      "{1, 2, 3, 4}\n"
     ]
    }
   ],
   "source": [
    "s=eval(input(\"Enter the set:\"))\n",
    "print(s)"
   ]
  },
  {
   "cell_type": "code",
   "execution_count": 8,
   "id": "4dd92069",
   "metadata": {},
   "outputs": [
    {
     "name": "stdout",
     "output_type": "stream",
     "text": [
      "sowmya\n",
      "Mounika\n",
      "Sushma\n",
      "Nandini\n",
      "Vakula\n",
      "Anusha\n"
     ]
    }
   ],
   "source": [
    "#To read the set elements only for loop is used\n",
    "S={\"Mounika\",\"Nandini\",\"Sushma\",\"Vakula\",\"Anusha\",\"sowmya\"}\n",
    "for name in S:\n",
    "    print(name)"
   ]
  },
  {
   "cell_type": "code",
   "execution_count": 9,
   "id": "5eff522c",
   "metadata": {},
   "outputs": [
    {
     "name": "stdout",
     "output_type": "stream",
     "text": [
      "{'Jyothi', 'sowmya', 'Mounika', 'Sushma', 'Nandini', 'Vakula', 'Anusha'}\n"
     ]
    }
   ],
   "source": [
    "S={\"Mounika\",\"Nandini\",\"Sushma\",\"Vakula\",\"Anusha\",\"sowmya\"}\n",
    "S.add(\"Jyothi\")\n",
    "print(S)"
   ]
  },
  {
   "cell_type": "code",
   "execution_count": 1,
   "id": "4c9b8bae",
   "metadata": {},
   "outputs": [
    {
     "name": "stdout",
     "output_type": "stream",
     "text": [
      "{'Nandini', 'Jyothi', 'Anusha', 'Vakula', 'Sushma', 'Mounika', 'sowmya'}\n"
     ]
    }
   ],
   "source": [
    "S={\"Mounika\",\"Nandini\",\"Sushma\",\"Vakula\",\"Anusha\",\"sowmya\"}\n",
    "S.update({\"Jyothi\"})\n",
    "print(S)"
   ]
  },
  {
   "cell_type": "code",
   "execution_count": 11,
   "id": "1db4ece6",
   "metadata": {},
   "outputs": [
    {
     "name": "stdout",
     "output_type": "stream",
     "text": [
      "{1, 2, 3, 4, 5, 6}\n"
     ]
    }
   ],
   "source": [
    "S={1,2,3,4,5}\n",
    "S.add(6)\n",
    "print(S)"
   ]
  },
  {
   "cell_type": "code",
   "execution_count": 12,
   "id": "6bb53596",
   "metadata": {},
   "outputs": [
    {
     "ename": "TypeError",
     "evalue": "'int' object is not iterable",
     "output_type": "error",
     "traceback": [
      "\u001b[1;31m---------------------------------------------------------------------------\u001b[0m",
      "\u001b[1;31mTypeError\u001b[0m                                 Traceback (most recent call last)",
      "\u001b[1;32mc:\\Users\\madha\\OneDrive\\Desktop\\python\\set.ipynb Cell 10\u001b[0m line \u001b[0;36m2\n\u001b[0;32m      <a href='vscode-notebook-cell:/c%3A/Users/madha/OneDrive/Desktop/python/set.ipynb#X14sZmlsZQ%3D%3D?line=0'>1</a>\u001b[0m S\u001b[39m=\u001b[39m{\u001b[39m1\u001b[39m,\u001b[39m2\u001b[39m,\u001b[39m3\u001b[39m,\u001b[39m4\u001b[39m,\u001b[39m5\u001b[39m}\n\u001b[1;32m----> <a href='vscode-notebook-cell:/c%3A/Users/madha/OneDrive/Desktop/python/set.ipynb#X14sZmlsZQ%3D%3D?line=1'>2</a>\u001b[0m S\u001b[39m.\u001b[39;49mupdate(\u001b[39m6\u001b[39;49m)\n\u001b[0;32m      <a href='vscode-notebook-cell:/c%3A/Users/madha/OneDrive/Desktop/python/set.ipynb#X14sZmlsZQ%3D%3D?line=2'>3</a>\u001b[0m \u001b[39mprint\u001b[39m(S)\n",
      "\u001b[1;31mTypeError\u001b[0m: 'int' object is not iterable"
     ]
    }
   ],
   "source": [
    "S={1,2,3,4,5}\n",
    "S.update(6)\n",
    "print(S)"
   ]
  },
  {
   "cell_type": "code",
   "execution_count": 2,
   "id": "1bf5edaa",
   "metadata": {},
   "outputs": [
    {
     "name": "stdout",
     "output_type": "stream",
     "text": [
      "{1, 2, 3, 4, 5, 6}\n"
     ]
    }
   ],
   "source": [
    "S={1,2,3,4,5}\n",
    "S.update([6,6]) #only a sequence elements can only add using update \n",
    "print(S)"
   ]
  },
  {
   "cell_type": "code",
   "execution_count": 15,
   "id": "c50bc0c9",
   "metadata": {},
   "outputs": [
    {
     "name": "stdout",
     "output_type": "stream",
     "text": [
      "{1, 2, 3, 4, 5}\n",
      "{1, 2, 3, 4, 5}\n",
      "{1, 2, 3, 4, 5, 6}\n",
      "{1, 2, 3, 4, 5}\n"
     ]
    }
   ],
   "source": [
    "#cloning\n",
    "S={1,2,3,4,5}\n",
    "S1=S.copy()\n",
    "print(S)\n",
    "print(S1)\n",
    "S.add(6)\n",
    "print(S)\n",
    "print(S1)"
   ]
  },
  {
   "cell_type": "code",
   "execution_count": 16,
   "id": "b6d7ce9b",
   "metadata": {},
   "outputs": [
    {
     "name": "stdout",
     "output_type": "stream",
     "text": [
      "{1, 2, 3, 4, 5}\n",
      "{1, 2, 3, 4, 5}\n",
      "{1, 2, 3, 4, 5, 6}\n",
      "{1, 2, 3, 4, 5, 6}\n"
     ]
    }
   ],
   "source": [
    "#alias\n",
    "S={1,2,3,4,5}\n",
    "S1=S\n",
    "print(S)\n",
    "print(S1)\n",
    "S.add(6)\n",
    "print(S)\n",
    "print(S1)"
   ]
  },
  {
   "cell_type": "code",
   "execution_count": 18,
   "id": "9c28183c",
   "metadata": {},
   "outputs": [
    {
     "name": "stdout",
     "output_type": "stream",
     "text": [
      "sowmya\n",
      "{'Mounika', 'Sushma', 'Nandini', 'Vakula', 'Anusha'}\n"
     ]
    }
   ],
   "source": [
    "#DELETE \n",
    "S={\"Mounika\",\"Nandini\",\"Sushma\",\"Vakula\",\"Anusha\",\"sowmya\"}\n",
    "print(S.pop())\n",
    "print(S)\n"
   ]
  },
  {
   "cell_type": "code",
   "execution_count": 19,
   "id": "34e6db72",
   "metadata": {},
   "outputs": [
    {
     "name": "stdout",
     "output_type": "stream",
     "text": [
      "{'Mounika', 'Sushma', 'Nandini', 'Vakula', 'Anusha'}\n"
     ]
    }
   ],
   "source": [
    "S={\"Mounika\",\"Nandini\",\"Sushma\",\"Vakula\",\"Anusha\",\"sowmya\"}\n",
    "S.pop()\n",
    "print(S)"
   ]
  },
  {
   "cell_type": "code",
   "execution_count": 22,
   "id": "031f33a1",
   "metadata": {},
   "outputs": [
    {
     "name": "stdout",
     "output_type": "stream",
     "text": [
      "{'Mounika', 'Sushma', 'Nandini', 'Vakula', 'Anusha'}\n"
     ]
    }
   ],
   "source": [
    "S={\"Mounika\",\"Nandini\",\"Sushma\",\"Vakula\",\"Anusha\",\"Sowmya\"}\n",
    "S.discard(\"Sowmya\")\n",
    "print(S)\n"
   ]
  },
  {
   "cell_type": "code",
   "execution_count": null,
   "id": "6fa1ffd3",
   "metadata": {},
   "outputs": [],
   "source": []
  },
  {
   "cell_type": "code",
   "execution_count": 23,
   "id": "e132a9de",
   "metadata": {},
   "outputs": [
    {
     "name": "stdout",
     "output_type": "stream",
     "text": [
      "{'Mounika', 'Sushma', 'Nandini', 'Sowmya', 'Vakula', 'Anusha'}\n"
     ]
    }
   ],
   "source": [
    "S={\"Mounika\",\"Nandini\",\"Sushma\",\"Vakula\",\"Anusha\",\"Sowmya\"}\n",
    "S.discard(\"sowmya\") #wrong element is given\n",
    "print(S) #prints the same"
   ]
  },
  {
   "cell_type": "code",
   "execution_count": 24,
   "id": "18bc1d2d",
   "metadata": {},
   "outputs": [
    {
     "ename": "KeyError",
     "evalue": "'sowmya'",
     "output_type": "error",
     "traceback": [
      "\u001b[1;31m---------------------------------------------------------------------------\u001b[0m",
      "\u001b[1;31mKeyError\u001b[0m                                  Traceback (most recent call last)",
      "\u001b[1;32mc:\\Users\\madha\\OneDrive\\Desktop\\python\\set.ipynb Cell 18\u001b[0m line \u001b[0;36m2\n\u001b[0;32m      <a href='vscode-notebook-cell:/c%3A/Users/madha/OneDrive/Desktop/python/set.ipynb#X25sZmlsZQ%3D%3D?line=0'>1</a>\u001b[0m S\u001b[39m=\u001b[39m{\u001b[39m\"\u001b[39m\u001b[39mMounika\u001b[39m\u001b[39m\"\u001b[39m,\u001b[39m\"\u001b[39m\u001b[39mNandini\u001b[39m\u001b[39m\"\u001b[39m,\u001b[39m\"\u001b[39m\u001b[39mSushma\u001b[39m\u001b[39m\"\u001b[39m,\u001b[39m\"\u001b[39m\u001b[39mVakula\u001b[39m\u001b[39m\"\u001b[39m,\u001b[39m\"\u001b[39m\u001b[39mAnusha\u001b[39m\u001b[39m\"\u001b[39m,\u001b[39m\"\u001b[39m\u001b[39mSowmya\u001b[39m\u001b[39m\"\u001b[39m}\n\u001b[1;32m----> <a href='vscode-notebook-cell:/c%3A/Users/madha/OneDrive/Desktop/python/set.ipynb#X25sZmlsZQ%3D%3D?line=1'>2</a>\u001b[0m S\u001b[39m.\u001b[39;49mremove(\u001b[39m\"\u001b[39;49m\u001b[39msowmya\u001b[39;49m\u001b[39m\"\u001b[39;49m) \u001b[39m#wrong element is given\u001b[39;00m\n\u001b[0;32m      <a href='vscode-notebook-cell:/c%3A/Users/madha/OneDrive/Desktop/python/set.ipynb#X25sZmlsZQ%3D%3D?line=2'>3</a>\u001b[0m \u001b[39mprint\u001b[39m(S)\n",
      "\u001b[1;31mKeyError\u001b[0m: 'sowmya'"
     ]
    }
   ],
   "source": [
    "S={\"Mounika\",\"Nandini\",\"Sushma\",\"Vakula\",\"Anusha\",\"Sowmya\"}\n",
    "S.remove(\"sowmya\") #wrong element is given\n",
    "print(S) #gives error"
   ]
  },
  {
   "cell_type": "code",
   "execution_count": 25,
   "id": "130cb2a8",
   "metadata": {},
   "outputs": [
    {
     "name": "stdout",
     "output_type": "stream",
     "text": [
      "{'Mounika', 'Sushma', 'Nandini', 'Vakula', 'Anusha'}\n"
     ]
    }
   ],
   "source": [
    "S={\"Mounika\",\"Nandini\",\"Sushma\",\"Vakula\",\"Anusha\",\"Sowmya\"}\n",
    "S.discard(\"Sowmya\") \n",
    "print(S) #remove and discard are same except that it gives errror if there is no given element in the given list"
   ]
  },
  {
   "cell_type": "code",
   "execution_count": 26,
   "id": "cd02aa5d",
   "metadata": {},
   "outputs": [
    {
     "name": "stdout",
     "output_type": "stream",
     "text": [
      "set()\n"
     ]
    }
   ],
   "source": [
    "S={\"Mounika\",\"Nandini\",\"Sushma\",\"Vakula\",\"Anusha\",\"Sowmya\"}\n",
    "S.clear()\n",
    "print(S)"
   ]
  },
  {
   "cell_type": "code",
   "execution_count": 27,
   "id": "80e1478a",
   "metadata": {},
   "outputs": [
    {
     "data": {
      "text/plain": [
       "{1, 2, 3, 4, 5, 6}"
      ]
     },
     "execution_count": 27,
     "metadata": {},
     "output_type": "execute_result"
    }
   ],
   "source": [
    "#union |\n",
    "s1={1,2,3,4}\n",
    "s2={3,4,5,6}\n",
    "s1.union(s2) #prints the all elements in both sets and removes dupilicates\n"
   ]
  },
  {
   "cell_type": "code",
   "execution_count": 28,
   "id": "acaee0a9",
   "metadata": {},
   "outputs": [
    {
     "data": {
      "text/plain": [
       "{1, 2, 3, 4, 5, 6}"
      ]
     },
     "execution_count": 28,
     "metadata": {},
     "output_type": "execute_result"
    }
   ],
   "source": [
    "s1={1,2,3,4}\n",
    "s2={3,4,5,6}\n",
    "s1 | s2"
   ]
  },
  {
   "cell_type": "code",
   "execution_count": 29,
   "id": "49ad9233",
   "metadata": {},
   "outputs": [
    {
     "data": {
      "text/plain": [
       "{3, 4}"
      ]
     },
     "execution_count": 29,
     "metadata": {},
     "output_type": "execute_result"
    }
   ],
   "source": [
    "#intersection &\n",
    "s1={1,2,3,4}\n",
    "s2={3,4,5,6}\n",
    "s1.intersection(s2) #prints the commmon elements"
   ]
  },
  {
   "cell_type": "code",
   "execution_count": 30,
   "id": "3ac181d3",
   "metadata": {},
   "outputs": [
    {
     "data": {
      "text/plain": [
       "{3, 4}"
      ]
     },
     "execution_count": 30,
     "metadata": {},
     "output_type": "execute_result"
    }
   ],
   "source": [
    "s1={1,2,3,4}\n",
    "s2={3,4,5,6}\n",
    "s1 & s2"
   ]
  },
  {
   "cell_type": "code",
   "execution_count": 4,
   "id": "f6d56feb",
   "metadata": {},
   "outputs": [
    {
     "name": "stdout",
     "output_type": "stream",
     "text": [
      "{1, 2}\n"
     ]
    }
   ],
   "source": [
    "#Difference -\n",
    "s1={1,2,3,4}\n",
    "s2={3,4,5,6}\n",
    "print(s1-s2) #prints the first set except the common elements from second set"
   ]
  },
  {
   "cell_type": "code",
   "execution_count": 3,
   "id": "95309430",
   "metadata": {},
   "outputs": [
    {
     "data": {
      "text/plain": [
       "{1, 2}"
      ]
     },
     "execution_count": 3,
     "metadata": {},
     "output_type": "execute_result"
    }
   ],
   "source": [
    "s1={1,2,3,4}\n",
    "s2={3,4,5,6}\n",
    "s1-s2"
   ]
  },
  {
   "cell_type": "code",
   "execution_count": 34,
   "id": "5c0991f6",
   "metadata": {},
   "outputs": [
    {
     "data": {
      "text/plain": [
       "{5, 6}"
      ]
     },
     "execution_count": 34,
     "metadata": {},
     "output_type": "execute_result"
    }
   ],
   "source": [
    "s1={1,2,3,4}\n",
    "s2={3,4,5,6}\n",
    "s2-s1"
   ]
  },
  {
   "cell_type": "code",
   "execution_count": 36,
   "id": "d66ff6d1",
   "metadata": {},
   "outputs": [
    {
     "data": {
      "text/plain": [
       "{1, 2}"
      ]
     },
     "execution_count": 36,
     "metadata": {},
     "output_type": "execute_result"
    }
   ],
   "source": [
    "s1={1,2,3,4}\n",
    "s2={3,4,5,6}\n",
    "s1.difference(s2)"
   ]
  },
  {
   "cell_type": "code",
   "execution_count": 37,
   "id": "140ef309",
   "metadata": {},
   "outputs": [
    {
     "data": {
      "text/plain": [
       "{5, 6}"
      ]
     },
     "execution_count": 37,
     "metadata": {},
     "output_type": "execute_result"
    }
   ],
   "source": [
    "s1={1,2,3,4}\n",
    "s2={3,4,5,6}\n",
    "s2.difference(s1)"
   ]
  },
  {
   "cell_type": "code",
   "execution_count": 41,
   "id": "790ebfdf",
   "metadata": {},
   "outputs": [
    {
     "data": {
      "text/plain": [
       "{1, 2, 5, 6}"
      ]
     },
     "execution_count": 41,
     "metadata": {},
     "output_type": "execute_result"
    }
   ],
   "source": [
    "#symmetric difference ^\n",
    "s1={1,2,3,4}\n",
    "s2={3,4,5,6}\n",
    "s1.symmetric_difference(s2) #prints the both sets except the common elements\n"
   ]
  },
  {
   "cell_type": "code",
   "execution_count": 42,
   "id": "66b153b3",
   "metadata": {},
   "outputs": [
    {
     "data": {
      "text/plain": [
       "{1, 2, 5, 6}"
      ]
     },
     "execution_count": 42,
     "metadata": {},
     "output_type": "execute_result"
    }
   ],
   "source": [
    "s1={1,2,3,4}\n",
    "s2={3,4,5,6}\n",
    "s1 ^ s2"
   ]
  },
  {
   "cell_type": "code",
   "execution_count": 43,
   "id": "114aef41",
   "metadata": {},
   "outputs": [
    {
     "data": {
      "text/plain": [
       "{1, 2, 5, 6}"
      ]
     },
     "execution_count": 43,
     "metadata": {},
     "output_type": "execute_result"
    }
   ],
   "source": [
    "s1={1,2,3,4}\n",
    "s2={3,4,5,6}\n",
    "s2 ^ s1"
   ]
  },
  {
   "cell_type": "code",
   "execution_count": 47,
   "id": "c1f89e43",
   "metadata": {},
   "outputs": [
    {
     "data": {
      "text/plain": [
       "False"
      ]
     },
     "execution_count": 47,
     "metadata": {},
     "output_type": "execute_result"
    }
   ],
   "source": [
    "#subset\n",
    "s1={1,2,3,4}\n",
    "s2={3,4,5,6}\n",
    "s1.issubset(s2) #second element should contain all elents of first set"
   ]
  },
  {
   "cell_type": "code",
   "execution_count": 48,
   "id": "0cd6a821",
   "metadata": {},
   "outputs": [
    {
     "data": {
      "text/plain": [
       "False"
      ]
     },
     "execution_count": 48,
     "metadata": {},
     "output_type": "execute_result"
    }
   ],
   "source": [
    "s1={1,2,3,4}\n",
    "s2={3,4,5,6}\n",
    "s1 <= s2"
   ]
  },
  {
   "cell_type": "code",
   "execution_count": 49,
   "id": "e95cb2a7",
   "metadata": {},
   "outputs": [
    {
     "data": {
      "text/plain": [
       "True"
      ]
     },
     "execution_count": 49,
     "metadata": {},
     "output_type": "execute_result"
    }
   ],
   "source": [
    "s1={3,4}\n",
    "s2={3,4,5,6}\n",
    "s1.issubset(s2)"
   ]
  },
  {
   "cell_type": "code",
   "execution_count": 51,
   "id": "e007cc0d",
   "metadata": {},
   "outputs": [
    {
     "data": {
      "text/plain": [
       "False"
      ]
     },
     "execution_count": 51,
     "metadata": {},
     "output_type": "execute_result"
    }
   ],
   "source": [
    "s1={3,4}\n",
    "s2={3,4,5,6}\n",
    "s2.issubset(s1) "
   ]
  },
  {
   "cell_type": "code",
   "execution_count": 55,
   "id": "970b5688",
   "metadata": {},
   "outputs": [
    {
     "data": {
      "text/plain": [
       "True"
      ]
     },
     "execution_count": 55,
     "metadata": {},
     "output_type": "execute_result"
    }
   ],
   "source": [
    "#supperset\n",
    "s1={3,4}\n",
    "s2={3,4,5,6}\n",
    "s2.issuperset(s1) #first set should contain the all ements of s1"
   ]
  },
  {
   "cell_type": "code",
   "execution_count": 56,
   "id": "48da62e5",
   "metadata": {},
   "outputs": [
    {
     "data": {
      "text/plain": [
       "True"
      ]
     },
     "execution_count": 56,
     "metadata": {},
     "output_type": "execute_result"
    }
   ],
   "source": [
    "s1={3,4}\n",
    "s2={3,4,5,6}\n",
    "s2>=s1"
   ]
  },
  {
   "cell_type": "code",
   "execution_count": 57,
   "id": "b7f32c4a",
   "metadata": {},
   "outputs": [
    {
     "data": {
      "text/plain": [
       "False"
      ]
     },
     "execution_count": 57,
     "metadata": {},
     "output_type": "execute_result"
    }
   ],
   "source": [
    "s1={3,4}\n",
    "s2={3,4,5,6}\n",
    "s2<=s1"
   ]
  },
  {
   "cell_type": "code",
   "execution_count": 59,
   "id": "0bc968c7",
   "metadata": {},
   "outputs": [
    {
     "data": {
      "text/plain": [
       "True"
      ]
     },
     "execution_count": 59,
     "metadata": {},
     "output_type": "execute_result"
    }
   ],
   "source": [
    "s1={3,4,5,6}\n",
    "s2={3,4,5,6}\n",
    "s1.issubset(s2)"
   ]
  },
  {
   "cell_type": "code",
   "execution_count": 60,
   "id": "450de149",
   "metadata": {},
   "outputs": [
    {
     "data": {
      "text/plain": [
       "True"
      ]
     },
     "execution_count": 60,
     "metadata": {},
     "output_type": "execute_result"
    }
   ],
   "source": [
    "s1={3,4,5,6}\n",
    "s2={3,4,5,6}\n",
    "s1.issuperset(s2)"
   ]
  },
  {
   "cell_type": "code",
   "execution_count": 61,
   "id": "02414f36",
   "metadata": {},
   "outputs": [
    {
     "data": {
      "text/plain": [
       "True"
      ]
     },
     "execution_count": 61,
     "metadata": {},
     "output_type": "execute_result"
    }
   ],
   "source": [
    "#disjoint\n",
    "s1={1,2}\n",
    "s2={3,4,5,6}\n",
    "s1.isdisjoint(s2) #same element in first set shouldn't be there in second set"
   ]
  },
  {
   "cell_type": "code",
   "execution_count": 62,
   "id": "1cd46328",
   "metadata": {},
   "outputs": [
    {
     "data": {
      "text/plain": [
       "False"
      ]
     },
     "execution_count": 62,
     "metadata": {},
     "output_type": "execute_result"
    }
   ],
   "source": [
    "#disjoint\n",
    "s1={1,2,3}\n",
    "s2={3,4,5,6}\n",
    "s1.isdisjoint(s2)"
   ]
  }
 ],
 "metadata": {
  "kernelspec": {
   "display_name": "Python 3 (ipykernel)",
   "language": "python",
   "name": "python3"
  },
  "language_info": {
   "codemirror_mode": {
    "name": "ipython",
    "version": 3
   },
   "file_extension": ".py",
   "mimetype": "text/x-python",
   "name": "python",
   "nbconvert_exporter": "python",
   "pygments_lexer": "ipython3",
   "version": "3.11.5"
  }
 },
 "nbformat": 4,
 "nbformat_minor": 5
}
