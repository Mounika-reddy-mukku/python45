{
 "cells": [
  {
   "cell_type": "code",
   "execution_count": 4,
   "metadata": {},
   "outputs": [
    {
     "name": "stdout",
     "output_type": "stream",
     "text": [
      "1\n",
      "5\n",
      "4\n",
      "No\n"
     ]
    }
   ],
   "source": [
    "Num=int(input())\n",
    "string=str(Num)\n",
    "Len=len(string)\n",
    "sum=0\n",
    "for i in string:\n",
    "    sum=sum+int(i)**Len\n",
    "    print(i)\n",
    "if sum==Num:\n",
    "    print(\"Yes\")\n",
    "else:\n",
    "    print(\"No\")"
   ]
  },
  {
   "cell_type": "code",
   "execution_count": null,
   "metadata": {},
   "outputs": [],
   "source": []
  },
  {
   "cell_type": "code",
   "execution_count": 6,
   "metadata": {},
   "outputs": [
    {
     "name": "stdout",
     "output_type": "stream",
     "text": [
      "[1, 1, 10, 12, 34, 35]\n",
      "Second-largest is 34,Second-smallest is 10\n"
     ]
    }
   ],
   "source": [
    "inp=[12, 35, 1, 10, 34, 1]\n",
    "inp.sort()\n",
    "print(inp)\n",
    "if(inp[0]==inp[1]):\n",
    "    print(\"Second-largest is \"+str(inp[-2]) +\",Second-smallest is \"+str(inp[2]))\n",
    "elif(inp[-1]==inp[-2]):\n",
    "    print(\"Second-largest is \"+str(inp[-3]) +\",Second-smallest is \"+str(inp[1]))\n",
    "else:\n",
    "    print(\"Second-largest is \"+str(inp[-2]) +\", and Second-smallest is \"+str(inp[1]))"
   ]
  }
 ],
 "metadata": {
  "kernelspec": {
   "display_name": "Python 3",
   "language": "python",
   "name": "python3"
  },
  "language_info": {
   "codemirror_mode": {
    "name": "ipython",
    "version": 3
   },
   "file_extension": ".py",
   "mimetype": "text/x-python",
   "name": "python",
   "nbconvert_exporter": "python",
   "pygments_lexer": "ipython3",
   "version": "3.11.5"
  }
 },
 "nbformat": 4,
 "nbformat_minor": 2
}
