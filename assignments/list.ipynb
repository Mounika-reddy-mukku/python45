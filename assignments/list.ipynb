{
 "cells": [
  {
   "cell_type": "code",
   "execution_count": 1,
   "id": "c97f68b7-5c83-4ab0-ace1-2e49c62fcdae",
   "metadata": {},
   "outputs": [
    {
     "name": "stdout",
     "output_type": "stream",
     "text": [
      "[0, 1, 2, 3, 4, 5, 6, 7, 8, 9]\n",
      "[9, 8, 7, 6, 5, 4, 3, 2, 1, 0]\n"
     ]
    }
   ],
   "source": [
    "L=list(range(10))\n",
    "print(L)\n",
    "A=L[::-1]\n",
    "print(A)"
   ]
  },
  {
   "cell_type": "code",
   "execution_count": 5,
   "id": "94def001-125b-40bf-a99d-70a0cbda2952",
   "metadata": {},
   "outputs": [
    {
     "name": "stdout",
     "output_type": "stream",
     "text": [
      "[0, 1, 2, 3, 4, 5, 6, 7, 8, 9]\n",
      "[9, 8, 7, 6, 5, 4, 3, 2, 1, 0]\n"
     ]
    }
   ],
   "source": [
    "L=list(range(10))\n",
    "print(L)\n",
    "A=[]\n",
    "for i in L:\n",
    "    A=[i]+A\n",
    "print(A)"
   ]
  },
  {
   "cell_type": "code",
   "execution_count": 6,
   "id": "1f183fdd-47ee-4535-bdcf-e89421b27356",
   "metadata": {},
   "outputs": [
    {
     "name": "stdout",
     "output_type": "stream",
     "text": [
      "[1, 2, 3, 4, 5, 6]\n",
      "[8, 9, 10]\n",
      "[1, 2, 3, 4, 5, 6, 8, 9, 10]\n"
     ]
    }
   ],
   "source": [
    "A=[1,2,3,4,5,6]\n",
    "B=[8,9,10]\n",
    "print(A)\n",
    "print(B)\n",
    "print(A+B)"
   ]
  },
  {
   "cell_type": "code",
   "execution_count": 8,
   "id": "97940f7b-60a7-49a7-863e-ca7ce509913e",
   "metadata": {},
   "outputs": [
    {
     "name": "stdout",
     "output_type": "stream",
     "text": [
      "[49, 16, 64, 4, 9]\n"
     ]
    }
   ],
   "source": [
    "def Square_of_list(L):\n",
    "    A=[]\n",
    "    for i in L:\n",
    "        N=i*i\n",
    "        A=A+[N]\n",
    "    return A\n",
    "L=[7, 4, 8,2, 3]\n",
    "output=Square_of_list(L)\n",
    "print(output)"
   ]
  },
  {
   "cell_type": "code",
   "execution_count": 9,
   "id": "1f4983be-4f5c-4953-8a83-40091fc91a46",
   "metadata": {},
   "outputs": [
    {
     "name": "stdout",
     "output_type": "stream",
     "text": [
      "a A\n",
      "b B\n",
      "c C\n",
      "d D\n",
      "e E\n"
     ]
    }
   ],
   "source": [
    "#iterate both lists simultaneously\n",
    "a=['a','b','c','d','e']\n",
    "A=['A','B','C','D','E']\n",
    "for i, j in zip(a,A):\n",
    "    print(i,j)\n"
   ]
  },
  {
   "cell_type": "code",
   "execution_count": 10,
   "id": "4061edeb-9fee-4d4d-9f4c-364e2bd45a58",
   "metadata": {},
   "outputs": [
    {
     "name": "stdout",
     "output_type": "stream",
     "text": [
      "a A\n",
      "b B\n",
      "c C\n",
      "d D\n"
     ]
    }
   ],
   "source": [
    "#iterate both lists simultaneously\n",
    "a=['a','b','c','d','e']\n",
    "A=['A','B','C','D']\n",
    "for i, j in zip(a,A):\n",
    "    print(i,j)"
   ]
  },
  {
   "cell_type": "code",
   "execution_count": 11,
   "id": "fbbd8074-6cf2-4e46-9b2b-a4e5f4d524dd",
   "metadata": {},
   "outputs": [
    {
     "name": "stdout",
     "output_type": "stream",
     "text": [
      "a A\n",
      "b B\n",
      "c C\n",
      "d D\n",
      "e None\n"
     ]
    }
   ],
   "source": [
    "# Import the `itertools` module\n",
    "import itertools\n",
    "\n",
    "# Create two lists\n",
    "a=['a','b','c','d','e']\n",
    "A=['A','B','C','D']\n",
    "\n",
    "# Iterate over both lists using the `itertools.zip_longest()` function\n",
    "for item1, item2 in itertools.zip_longest(a, A):\n",
    "  print(item1, item2)"
   ]
  },
  {
   "cell_type": "code",
   "execution_count": 13,
   "id": "397d8334-4716-42e5-9aad-d7099f8ff647",
   "metadata": {},
   "outputs": [
    {
     "name": "stdin",
     "output_type": "stream",
     "text": [
      "Enter the list: ['Munika', 'reddy', 'mukku',' ']\n"
     ]
    },
    {
     "name": "stdout",
     "output_type": "stream",
     "text": [
      "['Munika', 'reddy', 'mukku']\n"
     ]
    }
   ],
   "source": [
    "L=eval(input(\"Enter the list:\"))\n",
    "for i in L:\n",
    "    if(i==\" \"):\n",
    "        L.remove(i)\n",
    "print(L)"
   ]
  },
  {
   "cell_type": "code",
   "execution_count": 15,
   "id": "86a83fe5-a2c8-4d5f-a2aa-a1b9091fed33",
   "metadata": {},
   "outputs": [
    {
     "name": "stdin",
     "output_type": "stream",
     "text": [
      "Enter the list: ['Munika', 'reddy', 'mukku','']\n"
     ]
    },
    {
     "name": "stdout",
     "output_type": "stream",
     "text": [
      "['Munika', 'reddy', 'mukku']\n"
     ]
    }
   ],
   "source": [
    "L=eval(input(\"Enter the list:\"))\n",
    "for i in L:\n",
    "    if(i==\"\"):\n",
    "        L.remove(i)\n",
    "print(L)"
   ]
  },
  {
   "cell_type": "code",
   "execution_count": 16,
   "id": "85a9d82c-f74c-4d35-a9f4-f2bc3ed4f91a",
   "metadata": {},
   "outputs": [
    {
     "name": "stdout",
     "output_type": "stream",
     "text": [
      "['Munika', 'Mouni', 'reddy', 'mukku']\n"
     ]
    }
   ],
   "source": [
    "L=['Munika', 'reddy', 'mukku']\n",
    "L.insert(1,\"Mouni\")\n",
    "print(L)"
   ]
  },
  {
   "cell_type": "code",
   "execution_count": 18,
   "id": "c2131ca7-a222-41b2-bb67-2b6912befa80",
   "metadata": {},
   "outputs": [
    {
     "name": "stdout",
     "output_type": "stream",
     "text": [
      "['Munika', 'reddy', 'mukku', 'Mouni']\n"
     ]
    }
   ],
   "source": [
    "L=['Munika', 'reddy', 'mukku']\n",
    "L.append(\"Mouni\")\n",
    "print(L)"
   ]
  },
  {
   "cell_type": "code",
   "execution_count": 19,
   "id": "04a19e0a-bb94-45a0-a11d-d193e78de358",
   "metadata": {},
   "outputs": [
    {
     "name": "stdout",
     "output_type": "stream",
     "text": [
      "['Munika', 'reddy', 'mukku', 'M', 'o', 'u', 'n', 'i']\n"
     ]
    }
   ],
   "source": [
    "L=['Munika', 'reddy', 'mukku']\n",
    "L.extend(\"Mouni\")\n",
    "print(L)"
   ]
  },
  {
   "cell_type": "code",
   "execution_count": 20,
   "id": "db4c2249-5098-420c-b9ba-f97e29c23729",
   "metadata": {},
   "outputs": [
    {
     "name": "stdout",
     "output_type": "stream",
     "text": [
      "['Munika', 'reddy', 'mukku', [1, 2, 3]]\n"
     ]
    }
   ],
   "source": [
    "L=['Munika', 'reddy', 'mukku']\n",
    "L.append([1,2,3])\n",
    "print(L)"
   ]
  },
  {
   "cell_type": "code",
   "execution_count": null,
   "id": "0482bb22-d526-459a-b6ef-f40d5a622cf7",
   "metadata": {},
   "outputs": [],
   "source": [
    "L=['Munika', 'reddy', 'mukku']\n",
    "print(L)\n",
    "count=0\n",
    "for name in L:\n",
    "    if(name==\"mukku\"):\n",
    "        L.remove(name)\n",
    "        L.insert(count, \"Welcome\")\n",
    "    count=count+1\n",
    "print(L)\n",
    "\n",
    "        \n",
    "        "
   ]
  },
  {
   "cell_type": "code",
   "execution_count": null,
   "id": "81c4ee13-95f6-4fa2-bb51-49d9b585e73d",
   "metadata": {},
   "outputs": [],
   "source": []
  }
 ],
 "metadata": {
  "kernelspec": {
   "display_name": "Python 3 (ipykernel)",
   "language": "python",
   "name": "python3"
  },
  "language_info": {
   "codemirror_mode": {
    "name": "ipython",
    "version": 3
   },
   "file_extension": ".py",
   "mimetype": "text/x-python",
   "name": "python",
   "nbconvert_exporter": "python",
   "pygments_lexer": "ipython3",
   "version": "3.11.5"
  }
 },
 "nbformat": 4,
 "nbformat_minor": 5
}
