{
 "cells": [
  {
   "cell_type": "code",
   "execution_count": 1,
   "id": "bae3acf8-498e-4d07-a349-19ff8ba153a8",
   "metadata": {},
   "outputs": [
    {
     "name": "stdout",
     "output_type": "stream",
     "text": [
      "30\n"
     ]
    }
   ],
   "source": [
    "a=int(input(\"Enter first number:\" ))\n",
    "b=int(input(\"Enter second number:\" ))\n",
    "print(a+b)"
   ]
  },
  {
   "cell_type": "code",
   "execution_count": 9,
   "id": "b2097880",
   "metadata": {},
   "outputs": [
    {
     "name": "stdout",
     "output_type": "stream",
     "text": [
      "['1', '2', '3', '4']\n"
     ]
    }
   ],
   "source": [
    "a=input(\"enter values with space seaparated:\").split()\n",
    "print(a)"
   ]
  },
  {
   "cell_type": "code",
   "execution_count": 10,
   "id": "e6a2b37e-87c1-4b43-8c0a-c39359cf60ef",
   "metadata": {},
   "outputs": [
    {
     "name": "stdout",
     "output_type": "stream",
     "text": [
      "True\n"
     ]
    }
   ],
   "source": [
    "#multiple of 3 or not\n",
    "Number=int(input(\"enter the number:\"))#15\n",
    "print(Number%3==0)\n"
   ]
  },
  {
   "cell_type": "code",
   "execution_count": 11,
   "id": "3e09d01d",
   "metadata": {},
   "outputs": [
    {
     "name": "stdout",
     "output_type": "stream",
     "text": [
      "True\n"
     ]
    }
   ],
   "source": [
    "#divisible by 7 or not\n",
    "Number=int(input(\"enter the number:\"))\n",
    "print(Number%7==0)"
   ]
  },
  {
   "cell_type": "code",
   "execution_count": 12,
   "id": "44831905",
   "metadata": {},
   "outputs": [
    {
     "name": "stdout",
     "output_type": "stream",
     "text": [
      "positive\n"
     ]
    }
   ],
   "source": [
    "#positive or negative\n",
    "Number=int(input(\"enter the number:\"))\n",
    "if(Number>=0):\n",
    "    print(\"positive\")\n",
    "else:\n",
    "    print(\"Negative\")"
   ]
  },
  {
   "cell_type": "code",
   "execution_count": 15,
   "id": "4330f24d",
   "metadata": {},
   "outputs": [
    {
     "name": "stdout",
     "output_type": "stream",
     "text": [
      "Not a 3 digit number\n"
     ]
    }
   ],
   "source": [
    "#3 digit or not\n",
    "inp=int(input())#1000\n",
    "if(100>= inp <= 999):\n",
    "    print(\"3 digit number\")\n",
    "else:\n",
    "    print(\"Not a 3 digit number\")"
   ]
  },
  {
   "cell_type": "code",
   "execution_count": 16,
   "id": "37c0dfd1",
   "metadata": {},
   "outputs": [
    {
     "name": "stdout",
     "output_type": "stream",
     "text": [
      "even\n"
     ]
    }
   ],
   "source": [
    "#even or odd\n",
    "a=int(input()) #90\n",
    "if(a%2==0):\n",
    "    print(\"even\")\n",
    "else:\n",
    "    print(\"odd\")"
   ]
  },
  {
   "cell_type": "code",
   "execution_count": 17,
   "id": "ab6c3b92",
   "metadata": {},
   "outputs": [
    {
     "name": "stdout",
     "output_type": "stream",
     "text": [
      "B is biggest number: 90\n"
     ]
    }
   ],
   "source": [
    "# biiest of 2\n",
    "A=int(input()) #80\n",
    "B=int(input()) #90\n",
    "if(A>B):\n",
    "    print(\"A is biggest number:\",A)\n",
    "else:\n",
    "    print(\"B is biggest number:\",B)"
   ]
  },
  {
   "cell_type": "code",
   "execution_count": 18,
   "id": "44cc3106",
   "metadata": {},
   "outputs": [
    {
     "name": "stdout",
     "output_type": "stream",
     "text": [
      "A is smallest number: 80\n"
     ]
    }
   ],
   "source": [
    "#smallest of 2\n",
    "A=int(input()) #80\n",
    "B=int(input()) #90\n",
    "if(A<B):\n",
    "    print(\"A is smallest number:\",A)\n",
    "else:\n",
    "    print(\"B is smallest number:\",B)"
   ]
  },
  {
   "cell_type": "code",
   "execution_count": 19,
   "id": "80747dd4",
   "metadata": {},
   "outputs": [
    {
     "name": "stdout",
     "output_type": "stream",
     "text": [
      "C is biggest number: 100\n"
     ]
    }
   ],
   "source": [
    "# biggest of three\n",
    "A=int(input()) #80\n",
    "B=int(input()) #90\n",
    "C=int(input()) #100\n",
    "if(A>B and A>C):\n",
    "    print(\"A is Biggest number:\",A)\n",
    "elif(B>C):\n",
    "    print(\"B is Biggest number:\",B)\n",
    "else:\n",
    "    print(\"C is biggest number:\",C)"
   ]
  },
  {
   "cell_type": "code",
   "execution_count": 23,
   "id": "664b59da",
   "metadata": {},
   "outputs": [
    {
     "name": "stdout",
     "output_type": "stream",
     "text": [
      "90 100 100\n"
     ]
    }
   ],
   "source": [
    "# print ascending order\n",
    "A=int(input()) #100\n",
    "B=int(input()) #90\n",
    "C=int(input()) #100\n",
    "if(A<=B and A<=C):\n",
    "    if(B<=C):\n",
    "        print(A,B,C)\n",
    "    else:\n",
    "        print(A, C, B)\n",
    "elif(B<=C):\n",
    "    if(A<=C):\n",
    "        print(B, A, C)\n",
    "    else:\n",
    "        print(B,C,A)\n",
    "else:\n",
    "    if(B<=A):\n",
    "        print(C,B,A)\n",
    "    else:\n",
    "        print(C, A, B)\n"
   ]
  },
  {
   "cell_type": "code",
   "execution_count": 25,
   "id": "fcea2595",
   "metadata": {},
   "outputs": [
    {
     "name": "stdout",
     "output_type": "stream",
     "text": [
      "200 100 90\n"
     ]
    }
   ],
   "source": [
    "# print decending order\n",
    "A=int(input()) #200\n",
    "B=int(input()) #90\n",
    "C=int(input()) #100\n",
    "if(A>=B and A>=C):\n",
    "    if(B>=C):\n",
    "        print(A,B,C)\n",
    "    else:\n",
    "        print(A, C, B)\n",
    "elif(B>=C):\n",
    "    if(A>=C):\n",
    "        print(B, A, C)\n",
    "    else:\n",
    "        print(B,C,A)\n",
    "else:\n",
    "    if(B>=A):\n",
    "        print(C,B,A)\n",
    "    else:\n",
    "        print(C, A, B)"
   ]
  },
  {
   "cell_type": "code",
   "execution_count": 27,
   "id": "67ab0245",
   "metadata": {},
   "outputs": [
    {
     "name": "stdout",
     "output_type": "stream",
     "text": [
      "A is smallest number: 80\n"
     ]
    }
   ],
   "source": [
    "# smallest of three\n",
    "A=int(input()) #80\n",
    "B=int(input()) #90\n",
    "C=int(input()) #100\n",
    "if(A<=B and A<=C):\n",
    "    print(\"A is smallest number:\",A)\n",
    "elif(B<=C):\n",
    "    print(\"B is smallest number:\",B)\n",
    "else:\n",
    "    print(\"C is smallest number:\",C)"
   ]
  },
  {
   "cell_type": "code",
   "execution_count": 29,
   "id": "c09893e1",
   "metadata": {},
   "outputs": [
    {
     "name": "stdout",
     "output_type": "stream",
     "text": [
      "80\n"
     ]
    }
   ],
   "source": [
    "#terinary\n",
    "A=int(input()) #80\n",
    "B=int(input()) #90\n",
    "C=int(input()) #100\n",
    "smallest= A if (A<=B and A<=C) else(B if(B<=C) else C)\n",
    "print(smallest)"
   ]
  }
 ],
 "metadata": {
  "kernelspec": {
   "display_name": "Python 3 (ipykernel)",
   "language": "python",
   "name": "python3"
  },
  "language_info": {
   "codemirror_mode": {
    "name": "ipython",
    "version": 3
   },
   "file_extension": ".py",
   "mimetype": "text/x-python",
   "name": "python",
   "nbconvert_exporter": "python",
   "pygments_lexer": "ipython3",
   "version": "3.11.5"
  }
 },
 "nbformat": 4,
 "nbformat_minor": 5
}
