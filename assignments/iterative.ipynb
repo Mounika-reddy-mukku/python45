{
 "cells": [
  {
   "cell_type": "code",
   "execution_count": 1,
   "metadata": {},
   "outputs": [
    {
     "name": "stdout",
     "output_type": "stream",
     "text": [
      "1\n",
      "2\n",
      "3\n",
      "4\n",
      "5\n",
      "6\n",
      "7\n",
      "8\n",
      "9\n",
      "10\n"
     ]
    }
   ],
   "source": [
    "for i in range(1,11):\n",
    "    print(i)"
   ]
  },
  {
   "cell_type": "code",
   "execution_count": 2,
   "metadata": {},
   "outputs": [
    {
     "name": "stdout",
     "output_type": "stream",
     "text": [
      "1\n",
      "2\n",
      "3\n",
      "4\n",
      "5\n",
      "6\n",
      "7\n",
      "8\n",
      "9\n",
      "10\n"
     ]
    }
   ],
   "source": [
    "i=1\n",
    "while(i<=10):\n",
    "    print(i)\n",
    "    i+=1"
   ]
  },
  {
   "cell_type": "code",
   "execution_count": 3,
   "metadata": {},
   "outputs": [
    {
     "name": "stdout",
     "output_type": "stream",
     "text": [
      "sum of n numbers using while loop 55\n",
      "sum of n numbers using for loop 55\n"
     ]
    }
   ],
   "source": [
    "sum=0\n",
    "n=int(input())\n",
    "i=1\n",
    "while(i<=n):\n",
    "    sum=sum+i\n",
    "    i+=1\n",
    "print(\"sum of n numbers using while loop\", sum)\n",
    "sum=0\n",
    "for j in range(n+1):\n",
    "    sum=sum+j\n",
    "print(\"sum of n numbers using for loop\",sum)"
   ]
  },
  {
   "cell_type": "code",
   "execution_count": 4,
   "metadata": {},
   "outputs": [
    {
     "name": "stdout",
     "output_type": "stream",
     "text": [
      "15\n",
      "14\n",
      "13\n",
      "12\n",
      "11\n",
      "10\n"
     ]
    }
   ],
   "source": [
    "#to print numbers from 15 to 10\n",
    "for i in range(15,9,-1):\n",
    "    print(i)"
   ]
  },
  {
   "cell_type": "code",
   "execution_count": 5,
   "metadata": {},
   "outputs": [
    {
     "name": "stdout",
     "output_type": "stream",
     "text": [
      "15\n",
      "14\n",
      "13\n",
      "12\n",
      "11\n",
      "10\n"
     ]
    }
   ],
   "source": [
    "i=15\n",
    "while(i>=10):\n",
    "    print(i)\n",
    "    i=i-1"
   ]
  },
  {
   "cell_type": "code",
   "execution_count": 8,
   "metadata": {},
   "outputs": [
    {
     "name": "stdout",
     "output_type": "stream",
     "text": [
      "Even numbers are\n",
      "0\n",
      "2\n",
      "4\n",
      "6\n",
      "8\n",
      "10\n",
      "12\n",
      "14\n",
      "16\n",
      "18\n",
      "Odd numbers are\n",
      "1\n",
      "3\n",
      "5\n",
      "7\n",
      "9\n",
      "11\n",
      "13\n",
      "15\n",
      "17\n",
      "19\n"
     ]
    }
   ],
   "source": [
    "#first 10 even and odd using while\n",
    "print(\"Even numbers are\")\n",
    "i=0\n",
    "while(i<20):\n",
    "    print(i)\n",
    "    i=i+2\n",
    "print(\"Odd numbers are\")\n",
    "i=1\n",
    "while(i<20):\n",
    "    print(i)\n",
    "    i=i+2"
   ]
  },
  {
   "cell_type": "code",
   "execution_count": 10,
   "metadata": {},
   "outputs": [
    {
     "name": "stdout",
     "output_type": "stream",
     "text": [
      "even numbers are\n",
      "0\n",
      "2\n",
      "4\n",
      "6\n",
      "8\n",
      "Odd numbers are\n",
      "1\n",
      "3\n",
      "5\n",
      "7\n",
      "9\n"
     ]
    }
   ],
   "source": [
    "#first 5 even and odd numbers using for\n",
    "print(\"even numbers are\")\n",
    "for even in range(0,10,2):\n",
    "    print(even)\n",
    "print(\"Odd numbers are\")\n",
    "for odd in range(1,10,2):\n",
    "    print(odd)"
   ]
  },
  {
   "cell_type": "code",
   "execution_count": 13,
   "metadata": {},
   "outputs": [
    {
     "name": "stdout",
     "output_type": "stream",
     "text": [
      "4\n",
      "8\n",
      "12\n",
      "16\n",
      "20\n",
      "24\n",
      "28\n",
      "32\n",
      "36\n",
      "40\n"
     ]
    }
   ],
   "source": [
    "#first 10 multiples of 4\n",
    "for i in range(4,41,4):\n",
    "    print(i)"
   ]
  },
  {
   "cell_type": "code",
   "execution_count": 14,
   "metadata": {},
   "outputs": [
    {
     "name": "stdout",
     "output_type": "stream",
     "text": [
      "[0, 4, 8, 12, 16, 20, 24, 28, 32, 36, 40]\n"
     ]
    }
   ],
   "source": [
    "a=[]\n",
    "for i in range(41):\n",
    "    if(i%4==0):\n",
    "        a=a+[i]\n",
    "print(a)"
   ]
  },
  {
   "cell_type": "code",
   "execution_count": 17,
   "metadata": {},
   "outputs": [
    {
     "name": "stdout",
     "output_type": "stream",
     "text": [
      "5\n",
      "10\n",
      "15\n",
      "20\n",
      "25\n",
      "30\n",
      "35\n",
      "40\n",
      "45\n",
      "50\n"
     ]
    }
   ],
   "source": [
    "# first 10 multiples of 5\n",
    "i=5\n",
    "while(i<=50):\n",
    "    if(i%5==0):\n",
    "        print(i)\n",
    "    i=i+1"
   ]
  },
  {
   "cell_type": "code",
   "execution_count": 19,
   "metadata": {},
   "outputs": [
    {
     "name": "stdout",
     "output_type": "stream",
     "text": [
      "6 *  1 = 6\n",
      "6 *  2 = 12\n",
      "6 *  3 = 18\n",
      "6 *  4 = 24\n",
      "6 *  5 = 30\n",
      "6 *  6 = 36\n",
      "6 *  7 = 42\n",
      "6 *  8 = 48\n",
      "6 *  9 = 54\n",
      "6 *  10 = 60\n"
     ]
    }
   ],
   "source": [
    "count=1\n",
    "for i in range(1,61):\n",
    "    if(i%6==0):\n",
    "        print(\"6 * \",count,\"=\",i)\n",
    "        count=count+1"
   ]
  },
  {
   "cell_type": "code",
   "execution_count": 29,
   "metadata": {},
   "outputs": [
    {
     "name": "stdout",
     "output_type": "stream",
     "text": [
      "6 *  1 = 6\n",
      "6 *  2 = 12\n",
      "6 *  3 = 18\n",
      "6 *  4 = 24\n",
      "6 *  5 = 30\n",
      "6 *  6 = 36\n",
      "6 *  7 = 42\n",
      "6 *  8 = 48\n",
      "6 *  9 = 54\n",
      "6 *  10 = 60\n"
     ]
    }
   ],
   "source": [
    "i=1\n",
    "count=1\n",
    "while(i<=60):\n",
    "    if(i%6==0):\n",
    "        print(\"6 * \",count,\"=\",i)\n",
    "        count=count+1\n",
    "    i=i+1\n"
   ]
  },
  {
   "cell_type": "code",
   "execution_count": 30,
   "metadata": {},
   "outputs": [
    {
     "name": "stdout",
     "output_type": "stream",
     "text": [
      "1\n",
      "2\n",
      "3\n",
      "4\n",
      "6\n",
      "8\n",
      "12\n",
      "24\n"
     ]
    }
   ],
   "source": [
    "#factrors using for loop\n",
    "for i in range(1,25):\n",
    "    if(24%i==0):\n",
    "        print(i)"
   ]
  },
  {
   "cell_type": "code",
   "execution_count": 31,
   "metadata": {},
   "outputs": [
    {
     "name": "stdout",
     "output_type": "stream",
     "text": [
      "1\n",
      "2\n",
      "3\n",
      "4\n",
      "6\n",
      "8\n",
      "12\n",
      "24\n"
     ]
    }
   ],
   "source": [
    "# factorials of 24\n",
    "i=1\n",
    "while(i<=24):\n",
    "    if(24%i==0):\n",
    "        print(i)\n",
    "    i+=1"
   ]
  },
  {
   "cell_type": "code",
   "execution_count": 39,
   "metadata": {},
   "outputs": [
    {
     "name": "stdout",
     "output_type": "stream",
     "text": [
      "14\n"
     ]
    }
   ],
   "source": [
    "#reverse of a number\n",
    "n=input()\n",
    "rev=''\n",
    "for i in n:\n",
    "    rev=i+rev\n",
    "print(rev)\n"
   ]
  },
  {
   "cell_type": "code",
   "execution_count": 42,
   "metadata": {},
   "outputs": [
    {
     "name": "stdout",
     "output_type": "stream",
     "text": [
      "67845\n"
     ]
    }
   ],
   "source": [
    "n=int(input())\n",
    "a=str(n)[::-1]\n",
    "print(int(a))\n"
   ]
  },
  {
   "cell_type": "code",
   "execution_count": 44,
   "metadata": {},
   "outputs": [
    {
     "name": "stdout",
     "output_type": "stream",
     "text": [
      "2\n",
      "4\n",
      "6\n"
     ]
    }
   ],
   "source": [
    "#even numbers in a given list\n",
    "n=input().split()\n",
    "for i in n:\n",
    "    if(int(i)%2==0):\n",
    "        print(i)"
   ]
  },
  {
   "cell_type": "code",
   "execution_count": 49,
   "metadata": {},
   "outputs": [
    {
     "name": "stdout",
     "output_type": "stream",
     "text": [
      "['M', 'o', 'u', 'n', 'i', 'k', 'a']\n"
     ]
    },
    {
     "data": {
      "text/plain": [
       "['Mou', 'ika']"
      ]
     },
     "execution_count": 49,
     "metadata": {},
     "output_type": "execute_result"
    }
   ],
   "source": [
    "n=input()\n",
    "a=list(n)\n",
    "print(a)\n",
    "n.split(\"n\")"
   ]
  },
  {
   "cell_type": "code",
   "execution_count": 8,
   "metadata": {},
   "outputs": [
    {
     "name": "stdout",
     "output_type": "stream",
     "text": [
      "[0, 1, 1, 2, 3, 5, 8, 13]\n"
     ]
    }
   ],
   "source": [
    "#fibonaci upto n numbers\n",
    "def generate_fibonacci(n):\n",
    "    fibonacci_sequence = [0, 1]  # Initialize the sequence with the first two Fibonacci numbers\n",
    "    if n == 1:\n",
    "        return [0]\n",
    "    elif n == 2:\n",
    "        return fibonacci_sequence\n",
    "    else:\n",
    "        for i in range(2, n):\n",
    "            next_number = fibonacci_sequence[-1] + fibonacci_sequence[-2]\n",
    "            fibonacci_sequence.append(next_number)\n",
    "\n",
    "        return fibonacci_sequence\n",
    "n=int(input())\n",
    "if(n<=0):\n",
    "    print(\"Invalid\")\n",
    "else:\n",
    "    output= generate_fibonacci(n)\n",
    "    print(output)\n",
    "       \n",
    "\n"
   ]
  },
  {
   "cell_type": "code",
   "execution_count": 16,
   "metadata": {},
   "outputs": [
    {
     "name": "stdout",
     "output_type": "stream",
     "text": [
      "[0, 1, 1, 2, 3, 5, 8, 13]\n"
     ]
    }
   ],
   "source": [
    "n=int(input())\n",
    "fibonacci_sequence = [0, 1]\n",
    "if(n<=0):\n",
    "    print(\"Invalid\")\n",
    "elif n == 1:\n",
    "    print(0)\n",
    "elif n == 2:\n",
    "\n",
    "    print(fibonacci_sequence)\n",
    "else:\n",
    "    for i in range(2, n):\n",
    "        next_number = fibonacci_sequence[-1] + fibonacci_sequence[-2]\n",
    "        fibonacci_sequence.append(next_number)\n",
    "    print(fibonacci_sequence)"
   ]
  },
  {
   "cell_type": "code",
   "execution_count": 19,
   "metadata": {},
   "outputs": [
    {
     "name": "stdout",
     "output_type": "stream",
     "text": [
      "input: 156\n",
      "output: 342\n",
      "Not a armstrong number\n"
     ]
    }
   ],
   "source": [
    "#armstrong number or not\n",
    "n=int(input())\n",
    "print(\"input:\",n)\n",
    "a=str(n)\n",
    "l=len(a)\n",
    "sum=0\n",
    "for digit in a:\n",
    "    sum=sum+int(digit)**l\n",
    "print(\"output:\",sum)\n",
    "if(sum==n):\n",
    "    print(\"Armstrong number\")\n",
    "else:\n",
    "    print(\"Not a armstrong number\")\n",
    "\n"
   ]
  },
  {
   "cell_type": "code",
   "execution_count": 20,
   "metadata": {},
   "outputs": [
    {
     "name": "stdout",
     "output_type": "stream",
     "text": [
      "input: 153\n",
      "output: 153\n",
      "Armstrong number\n"
     ]
    }
   ],
   "source": [
    "#armstrong number or not\n",
    "n=int(input())\n",
    "print(\"input:\",n)\n",
    "a=str(n)\n",
    "l=len(a)\n",
    "sum=0\n",
    "for digit in a:\n",
    "    sum=sum+int(digit)**l\n",
    "print(\"output:\",sum)\n",
    "if(sum==n):\n",
    "    print(\"Armstrong number\")\n",
    "else:\n",
    "    print(\"Not a armstrong number\")"
   ]
  }
 ],
 "metadata": {
  "kernelspec": {
   "display_name": "Python 3",
   "language": "python",
   "name": "python3"
  },
  "language_info": {
   "codemirror_mode": {
    "name": "ipython",
    "version": 3
   },
   "file_extension": ".py",
   "mimetype": "text/x-python",
   "name": "python",
   "nbconvert_exporter": "python",
   "pygments_lexer": "ipython3",
   "version": "3.11.5"
  },
  "orig_nbformat": 4
 },
 "nbformat": 4,
 "nbformat_minor": 2
}
