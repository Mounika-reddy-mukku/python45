{
 "cells": [
  {
   "cell_type": "code",
   "execution_count": 2,
   "id": "b0198ef4-2d33-4a68-8a41-4abf16ee5fb7",
   "metadata": {},
   "outputs": [
    {
     "name": "stdin",
     "output_type": "stream",
     "text": [
      "Enter the String: Mounika\n"
     ]
    },
    {
     "name": "stdout",
     "output_type": "stream",
     "text": [
      "4\n"
     ]
    }
   ],
   "source": [
    "S=input(\"Enter the String:\")\n",
    "count=0\n",
    "for i in S:\n",
    "    if(i=='a' or i=='e' or i=='i' or i=='o' or i=='u' or i=='A' or i=='E' or i=='I' or i=='O' or i=='U'):\n",
    "        count=count+1\n",
    "print(count)\n",
    "        "
   ]
  },
  {
   "cell_type": "code",
   "execution_count": 3,
   "id": "b5ac651c-1706-470e-8f91-ce87bc87526a",
   "metadata": {},
   "outputs": [
    {
     "name": "stdin",
     "output_type": "stream",
     "text": [
      "Enter the String: Hi My Name is mounika reddy mukku\n"
     ]
    },
    {
     "name": "stdout",
     "output_type": "stream",
     "text": [
      "11\n"
     ]
    }
   ],
   "source": [
    "S=input(\"Enter the String:\")\n",
    "count=0\n",
    "for i in S:\n",
    "    if(i=='a' or i=='e' or i=='i' or i=='o' or i=='u' or i=='A' or i=='E' or i=='I' or i=='O' or i=='U'):\n",
    "        count=count+1\n",
    "print(count)"
   ]
  },
  {
   "cell_type": "code",
   "execution_count": 11,
   "id": "1c3a75ce-42f8-4f4f-8dff-ebdd7fa85458",
   "metadata": {},
   "outputs": [
    {
     "name": "stdin",
     "output_type": "stream",
     "text": [
      "Enter the string Mounika@123$ Mukku\n"
     ]
    },
    {
     "name": "stdout",
     "output_type": "stream",
     "text": [
      "No.of digits 3\n",
      "No.of uppercases 2\n",
      "No.of lowercases 10\n",
      "No.of spaces 1\n",
      "no.of spl characters 2\n"
     ]
    }
   ],
   "source": [
    "#To check the number of digits, uppercases,lowercases and white spaces\n",
    "S=input(\"Enter the string\")\n",
    "c1=0\n",
    "c2=0\n",
    "c3=0\n",
    "c4=0\n",
    "c=0\n",
    "for char in S:\n",
    "    if(char.isdigit()):\n",
    "        c1+=1\n",
    "    elif(char.isupper()):\n",
    "        c2+=1\n",
    "    elif(char.islower()):\n",
    "        c3=c3+1\n",
    "    elif(char==\" \"):\n",
    "        c4=c4+1\n",
    "    else:\n",
    "        c+=1\n",
    "print(\"No.of digits\",c1)\n",
    "print(\"No.of uppercases\",c2)\n",
    "print(\"No.of lowercases\",c3)\n",
    "print(\"No.of spaces\",c4)\n",
    "print(\"no.of spl characters\",c)\n",
    "    \n",
    "    "
   ]
  },
  {
   "cell_type": "code",
   "execution_count": 24,
   "id": "b47f7181-6f77-4281-b20c-fb525b616b1b",
   "metadata": {},
   "outputs": [
    {
     "name": "stdin",
     "output_type": "stream",
     "text": [
      "enter the string: Hello\n"
     ]
    },
    {
     "name": "stdout",
     "output_type": "stream",
     "text": [
      "Swaping first and last char: oellH\n"
     ]
    }
   ],
   "source": [
    "S=input(\"enter the string:\")\n",
    "A=S[0]\n",
    "B=S[-1]\n",
    "S=B+S[1:-1]+A\n",
    "print(\"Swaping first and last char:\",S)\n",
    "\n",
    "\n"
   ]
  },
  {
   "cell_type": "code",
   "execution_count": 25,
   "id": "e4ddc112-5cc4-4367-9dc3-c2660e0d80b0",
   "metadata": {},
   "outputs": [
    {
     "name": "stdin",
     "output_type": "stream",
     "text": [
      "enter the string: MounikA\n"
     ]
    },
    {
     "name": "stdout",
     "output_type": "stream",
     "text": [
      "Swaping first and last char: AouniM\n"
     ]
    }
   ],
   "source": [
    "S=input(\"enter the string:\")\n",
    "A=S[0]\n",
    "B=S[-1]\n",
    "l=len(S)\n",
    "S=B+S[1:l-2]+A\n",
    "print(\"Swaping first and last char:\",S)"
   ]
  },
  {
   "cell_type": "code",
   "execution_count": 26,
   "id": "8dd4ff01-bb3a-445b-a304-03e3cfe8e5a8",
   "metadata": {},
   "outputs": [
    {
     "name": "stdin",
     "output_type": "stream",
     "text": [
      "enter the string: Mounika\n"
     ]
    },
    {
     "name": "stdout",
     "output_type": "stream",
     "text": [
      "reverse string: akinuoM\n"
     ]
    }
   ],
   "source": [
    "S=input(\"enter the string:\")\n",
    "print(\"reverse string:\",S[::-1])"
   ]
  },
  {
   "cell_type": "code",
   "execution_count": 32,
   "id": "fe7d0eb0-3049-46ec-9762-444d2f5d631a",
   "metadata": {},
   "outputs": [
    {
     "name": "stdin",
     "output_type": "stream",
     "text": [
      "Enter the string stack\n"
     ]
    },
    {
     "name": "stdout",
     "output_type": "stream",
     "text": [
      "stack\n",
      "tacks\n",
      "ackst\n",
      "cksta\n",
      "kstac\n"
     ]
    }
   ],
   "source": [
    "S=input(\"Enter the string\")\n",
    "L=len(S)\n",
    "for i in range(L):\n",
    "    a=S[i:]+S[:-(L-i)]\n",
    "    print(a)"
   ]
  },
  {
   "cell_type": "code",
   "execution_count": 33,
   "id": "158becb0-2943-412e-8480-18ba8c8f1954",
   "metadata": {},
   "outputs": [
    {
     "name": "stdin",
     "output_type": "stream",
     "text": [
      "Enter the string:  MOUNIKA\n"
     ]
    },
    {
     "name": "stdout",
     "output_type": "stream",
     "text": [
      "MOUNIKA\n",
      "OUNIKAM\n",
      "UNIKAMO\n",
      "NIKAMOU\n",
      "IKAMOUN\n",
      "KAMOUNI\n",
      "AMOUNIK\n"
     ]
    }
   ],
   "source": [
    "S=input(\"Enter the string: \")\n",
    "L=len(S)\n",
    "for i in range(L):\n",
    "    a=S[i:]+S[:-(L-i)]\n",
    "    print(a)"
   ]
  },
  {
   "cell_type": "code",
   "execution_count": 34,
   "id": "27744f0a-75fd-4870-b939-26545493c2da",
   "metadata": {},
   "outputs": [
    {
     "name": "stdin",
     "output_type": "stream",
     "text": [
      "Enter the string:  Pro stack Academy\n"
     ]
    },
    {
     "name": "stdout",
     "output_type": "stream",
     "text": [
      "ro stack AcademyP\n"
     ]
    }
   ],
   "source": [
    "S=input(\"Enter the string: \")\n",
    "L=len(S)\n",
    "a=S[1:]+S[:-(L-1)]\n",
    "print(a)"
   ]
  },
  {
   "cell_type": "code",
   "execution_count": 35,
   "id": "15ae97d5-693f-4fe9-9b8b-c28395fa5296",
   "metadata": {},
   "outputs": [
    {
     "name": "stdin",
     "output_type": "stream",
     "text": [
      "Enter the string:  Pro Stack Academy\n"
     ]
    },
    {
     "name": "stdout",
     "output_type": "stream",
     "text": [
      "ro Stack AcademyP\n"
     ]
    }
   ],
   "source": [
    "S=input(\"Enter the string: \")\n",
    "L=len(S)\n",
    "a=S[1:]+S[0]\n",
    "print(a)"
   ]
  },
  {
   "cell_type": "code",
   "execution_count": null,
   "id": "3a510f25-21d8-4230-ab7c-9cbb2bd95cd8",
   "metadata": {},
   "outputs": [],
   "source": []
  }
 ],
 "metadata": {
  "kernelspec": {
   "display_name": "Python 3 (ipykernel)",
   "language": "python",
   "name": "python3"
  },
  "language_info": {
   "codemirror_mode": {
    "name": "ipython",
    "version": 3
   },
   "file_extension": ".py",
   "mimetype": "text/x-python",
   "name": "python",
   "nbconvert_exporter": "python",
   "pygments_lexer": "ipython3",
   "version": "3.11.5"
  }
 },
 "nbformat": 4,
 "nbformat_minor": 5
}
