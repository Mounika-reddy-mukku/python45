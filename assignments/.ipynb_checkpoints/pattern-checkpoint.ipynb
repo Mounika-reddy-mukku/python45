{
 "cells": [
  {
   "cell_type": "code",
   "execution_count": 2,
   "id": "e3321ba2-e585-4974-9e5c-cf33ad312f5c",
   "metadata": {},
   "outputs": [
    {
     "name": "stdout",
     "output_type": "stream",
     "text": [
      "Enter a number 5\n"
     ]
    },
    {
     "name": "stdout",
     "output_type": "stream",
     "text": [
      "*****\n"
     ]
    }
   ],
   "source": [
    "n=int(input(\"Enter a number\"))\n",
    "print(\"*\" *n)"
   ]
  },
  {
   "cell_type": "code",
   "execution_count": 1,
   "id": "fa27dae6-39be-4365-acba-deba520ae384",
   "metadata": {},
   "outputs": [
    {
     "name": "stdout",
     "output_type": "stream",
     "text": [
      "Enter a Number: 3\n"
     ]
    },
    {
     "name": "stdout",
     "output_type": "stream",
     "text": [
      "A A A \n",
      "A A A \n",
      "A A A \n"
     ]
    }
   ],
   "source": [
    "N=int(input(\"Enter a Number:\"))\n",
    "for i in range(N):\n",
    "    print(\"A \" *N)"
   ]
  },
  {
   "cell_type": "code",
   "execution_count": 2,
   "id": "4b9f87c6-3b6d-46b0-abb0-5a7c11cd56a5",
   "metadata": {},
   "outputs": [
    {
     "name": "stdout",
     "output_type": "stream",
     "text": [
      "Enter a Number: 5\n"
     ]
    },
    {
     "name": "stdout",
     "output_type": "stream",
     "text": [
      "* * * * * \n",
      "* * * * * \n",
      "* * * * * \n",
      "* * * * * \n",
      "* * * * * \n"
     ]
    }
   ],
   "source": [
    "N=int(input(\"Enter a Number:\"))\n",
    "for i in range(N):\n",
    "    print(\"* \" *N)"
   ]
  },
  {
   "cell_type": "code",
   "execution_count": 3,
   "id": "51034817-476b-4441-8f9b-69ee87f86e97",
   "metadata": {},
   "outputs": [
    {
     "name": "stdout",
     "output_type": "stream",
     "text": [
      "Enter a Number: 5\n"
     ]
    },
    {
     "name": "stdout",
     "output_type": "stream",
     "text": [
      "55555\n",
      "55555\n",
      "55555\n",
      "55555\n",
      "55555\n"
     ]
    }
   ],
   "source": [
    "N=int(input(\"Enter a Number:\"))\n",
    "for i in range(N):\n",
    "    print(str(N) *N)"
   ]
  },
  {
   "cell_type": "code",
   "execution_count": 4,
   "id": "bbc3c77d-f937-431e-9289-25f894732d96",
   "metadata": {},
   "outputs": [
    {
     "name": "stdout",
     "output_type": "stream",
     "text": [
      "Enter a Number: 7\n"
     ]
    },
    {
     "name": "stdout",
     "output_type": "stream",
     "text": [
      "7777777\n",
      "7777777\n",
      "7777777\n",
      "7777777\n",
      "7777777\n",
      "7777777\n",
      "7777777\n"
     ]
    }
   ],
   "source": [
    "N=int(input(\"Enter a Number:\"))\n",
    "for i in range(N):\n",
    "    print(str(N) *N)"
   ]
  },
  {
   "cell_type": "code",
   "execution_count": 6,
   "id": "62498be2-5c6f-4b2e-9b45-ca81bde3441b",
   "metadata": {},
   "outputs": [
    {
     "name": "stdout",
     "output_type": "stream",
     "text": [
      "Enter a Number: 4\n"
     ]
    },
    {
     "name": "stdout",
     "output_type": "stream",
     "text": [
      "1111\n",
      "2222\n",
      "3333\n",
      "4444\n"
     ]
    }
   ],
   "source": [
    "N=int(input(\"Enter a Number:\"))\n",
    "for i in range(1,N+1):\n",
    "    print(str(i) *N)"
   ]
  },
  {
   "cell_type": "code",
   "execution_count": 7,
   "id": "bd803d5b-1487-4da5-a9d5-9a0dce790f2e",
   "metadata": {},
   "outputs": [
    {
     "name": "stdout",
     "output_type": "stream",
     "text": [
      "Enter a Number: 5\n"
     ]
    },
    {
     "name": "stdout",
     "output_type": "stream",
     "text": [
      "55555\n",
      "44444\n",
      "33333\n",
      "22222\n",
      "11111\n"
     ]
    }
   ],
   "source": [
    "N=int(input(\"Enter a Number:\"))\n",
    "for i in range(N):\n",
    "    print(str(N-i) *N)"
   ]
  },
  {
   "cell_type": "code",
   "execution_count": 8,
   "id": "7f476b88-cd25-48dc-b0c2-d08055cd4e75",
   "metadata": {},
   "outputs": [
    {
     "name": "stdout",
     "output_type": "stream",
     "text": [
      "Enter a Number: 4\n"
     ]
    },
    {
     "name": "stdout",
     "output_type": "stream",
     "text": [
      "* \n",
      "* * \n",
      "* * * \n",
      "* * * * \n"
     ]
    }
   ],
   "source": [
    "N=int(input(\"Enter a Number:\"))\n",
    "for i in range(1,N+1):\n",
    "    print(\"* \" *i)"
   ]
  },
  {
   "cell_type": "code",
   "execution_count": 9,
   "id": "e5934aaa-4ca1-43ae-ae77-72fe97d1f9bb",
   "metadata": {},
   "outputs": [
    {
     "name": "stdout",
     "output_type": "stream",
     "text": [
      "Enter a Number: 4\n"
     ]
    },
    {
     "name": "stdout",
     "output_type": "stream",
     "text": [
      "A \n",
      "A A \n",
      "A A A \n",
      "A A A A \n"
     ]
    }
   ],
   "source": [
    "N=int(input(\"Enter a Number:\"))\n",
    "for i in range(1,N+1):\n",
    "    print(\"A \" *i)"
   ]
  },
  {
   "cell_type": "code",
   "execution_count": 10,
   "id": "fe41192a-ee5b-472d-bb38-86d2da4351d5",
   "metadata": {},
   "outputs": [
    {
     "name": "stdout",
     "output_type": "stream",
     "text": [
      "Enter a Number: 5\n"
     ]
    },
    {
     "name": "stdout",
     "output_type": "stream",
     "text": [
      "* * * * * \n",
      "* * * * \n",
      "* * * \n",
      "* * \n",
      "* \n"
     ]
    }
   ],
   "source": [
    "N=int(input(\"Enter a Number:\"))\n",
    "for i in range(N):\n",
    "    print(\"* \" *(N-i))"
   ]
  },
  {
   "cell_type": "code",
   "execution_count": 11,
   "id": "e6b180a6-b5a6-47a7-b60e-07641b234ebb",
   "metadata": {},
   "outputs": [
    {
     "name": "stdout",
     "output_type": "stream",
     "text": [
      "Enter a number 5\n"
     ]
    },
    {
     "name": "stdout",
     "output_type": "stream",
     "text": [
      "A \n",
      "B B \n",
      "C C C \n",
      "D D D D \n",
      "E E E E E \n"
     ]
    }
   ],
   "source": [
    "A=['A','B','C','D','E','F','G','H','I','J','K','L','M','N','O','P','Q','R','S','T','U','U','V','W','X','Y','Z']\n",
    "N=int(input(\"Enter a number\"))\n",
    "for i in range(N):\n",
    "    print((A[i]+\" \")*(i+1))\n",
    "    "
   ]
  },
  {
   "cell_type": "code",
   "execution_count": 12,
   "id": "6a983222-4e14-4a61-8279-ce17d15d9a43",
   "metadata": {},
   "outputs": [
    {
     "name": "stdout",
     "output_type": "stream",
     "text": [
      "Enter a number 25\n"
     ]
    },
    {
     "name": "stdout",
     "output_type": "stream",
     "text": [
      "A \n",
      "B B \n",
      "C C C \n",
      "D D D D \n",
      "E E E E E \n",
      "F F F F F F \n",
      "G G G G G G G \n",
      "H H H H H H H H \n",
      "I I I I I I I I I \n",
      "J J J J J J J J J J \n",
      "K K K K K K K K K K K \n",
      "L L L L L L L L L L L L \n",
      "M M M M M M M M M M M M M \n",
      "N N N N N N N N N N N N N N \n",
      "O O O O O O O O O O O O O O O \n",
      "P P P P P P P P P P P P P P P P \n",
      "Q Q Q Q Q Q Q Q Q Q Q Q Q Q Q Q Q \n",
      "R R R R R R R R R R R R R R R R R R \n",
      "S S S S S S S S S S S S S S S S S S S \n",
      "T T T T T T T T T T T T T T T T T T T T \n",
      "U U U U U U U U U U U U U U U U U U U U U \n",
      "U U U U U U U U U U U U U U U U U U U U U U \n",
      "V V V V V V V V V V V V V V V V V V V V V V V \n",
      "W W W W W W W W W W W W W W W W W W W W W W W W \n",
      "X X X X X X X X X X X X X X X X X X X X X X X X X \n"
     ]
    }
   ],
   "source": [
    "A=['A','B','C','D','E','F','G','H','I','J','K','L','M','N','O','P','Q','R','S','T','U','U','V','W','X','Y','Z']\n",
    "N=int(input(\"Enter a number\"))\n",
    "for i in range(N):\n",
    "    print((A[i]+\" \")*(i+1))"
   ]
  },
  {
   "cell_type": "code",
   "execution_count": 13,
   "id": "85dff7e6-c369-44d8-ab66-4bdd0786c7af",
   "metadata": {},
   "outputs": [
    {
     "name": "stdout",
     "output_type": "stream",
     "text": [
      "Enter a number 4\n"
     ]
    },
    {
     "name": "stdout",
     "output_type": "stream",
     "text": [
      "1 \n",
      "2 2 \n",
      "3 3 3 \n",
      "4 4 4 4 \n"
     ]
    }
   ],
   "source": [
    "N=int(input(\"Enter a number\"))\n",
    "for i in range(1,N+1):\n",
    "    print((str(i)+\" \") *i)"
   ]
  },
  {
   "cell_type": "code",
   "execution_count": 14,
   "id": "4ebf7ca3-dfca-49da-9210-929b4f2c1450",
   "metadata": {},
   "outputs": [
    {
     "name": "stdout",
     "output_type": "stream",
     "text": [
      "enter a Number 4\n"
     ]
    },
    {
     "name": "stdout",
     "output_type": "stream",
     "text": [
      "1\n",
      "1 2 \n",
      "1 2 3 \n",
      "1 2 3 4 \n"
     ]
    }
   ],
   "source": [
    "N=int(input(\"enter a Number\"))\n",
    "for i in range(1,N+1):\n",
    "    if(i==1):\n",
    "        print(\"1\")\n",
    "    else:\n",
    "        row=\"\"\n",
    "        for j in range(1,i+1):\n",
    "            row=row + str(j)+\" \"\n",
    "        print(row)"
   ]
  },
  {
   "cell_type": "code",
   "execution_count": 16,
   "id": "1ae796f5-170c-4ce5-89ba-96a26bbf8876",
   "metadata": {},
   "outputs": [
    {
     "name": "stdout",
     "output_type": "stream",
     "text": [
      " 5\n"
     ]
    },
    {
     "name": "stdout",
     "output_type": "stream",
     "text": [
      "A\n",
      "A B \n",
      "A B C \n",
      "A B C D \n",
      "A B C D E \n"
     ]
    }
   ],
   "source": [
    "A=['A','B','C','D','E','F','G','H','I','J','K','L','M','N','O','P','Q','R','S','T','U','U','V','W','X','Y','Z']\n",
    "N=int(input())\n",
    "for i in range(N):\n",
    "    if(i==0):\n",
    "        print(\"A\")\n",
    "    else:\n",
    "        val=''\n",
    "        for j in range(0,i+1):\n",
    "            val = val+ A[j] +\" \"\n",
    "        print(val)"
   ]
  },
  {
   "cell_type": "code",
   "execution_count": 24,
   "id": "0a3ad01c-b0f9-42a5-9c3a-e9fa06c0c6a2",
   "metadata": {},
   "outputs": [
    {
     "name": "stdout",
     "output_type": "stream",
     "text": [
      "Enter a number 4\n"
     ]
    },
    {
     "name": "stdout",
     "output_type": "stream",
     "text": [
      "1 2 3 4 \n",
      "1 2 3 \n",
      "1 2 \n",
      "1\n"
     ]
    }
   ],
   "source": [
    "N=int(input(\"Enter a number\"))\n",
    "for i in range(N):\n",
    "    if(i==N-1):\n",
    "        print(1)\n",
    "    else:\n",
    "        val=\"\"\n",
    "        for j in range(1,N-i+1):\n",
    "            val=val+ str(j) +\" \"\n",
    "        print(val)"
   ]
  },
  {
   "cell_type": "code",
   "execution_count": 27,
   "id": "194908dc-76b0-4446-aab8-81455f737e4e",
   "metadata": {},
   "outputs": [
    {
     "name": "stdout",
     "output_type": "stream",
     "text": [
      "Enter a number 5\n"
     ]
    },
    {
     "name": "stdout",
     "output_type": "stream",
     "text": [
      "0 1 2 3 4 \n",
      "0 1 2 3 \n",
      "0 1 2 \n",
      "0 1 \n",
      "0\n"
     ]
    }
   ],
   "source": [
    "N=int(input(\"Enter a number\"))\n",
    "for i in range(N):\n",
    "    if(i==N-1):\n",
    "        print(0)\n",
    "    else:\n",
    "        val=\"\"\n",
    "        for j in range(N-i):\n",
    "            val=val+ str(j) +\" \"\n",
    "        print(val)"
   ]
  },
  {
   "cell_type": "code",
   "execution_count": 29,
   "id": "76e08e45-061c-407c-8172-a676f7856681",
   "metadata": {},
   "outputs": [
    {
     "name": "stdout",
     "output_type": "stream",
     "text": [
      "Enter a Number 6\n"
     ]
    },
    {
     "name": "stdout",
     "output_type": "stream",
     "text": [
      "* * * * * * \n",
      "*         *\n",
      "*         *\n",
      "*         *\n",
      "*         *\n",
      "* * * * * * \n"
     ]
    }
   ],
   "source": [
    "N=int(input(\"Enter a Number\"))\n",
    "for i in range(N):\n",
    "    if(i==0 or i==N-1):\n",
    "        print(\"* \" *N)\n",
    "    else:\n",
    "        print(\"* \" + \"  \"*(N-2) +\"*\")"
   ]
  },
  {
   "cell_type": "code",
   "execution_count": 30,
   "id": "9ae16ad1-6ec6-44d3-931b-23fd17a5d278",
   "metadata": {},
   "outputs": [
    {
     "name": "stdout",
     "output_type": "stream",
     "text": [
      "Enter a number 5\n"
     ]
    },
    {
     "name": "stdout",
     "output_type": "stream",
     "text": [
      "A B C D E \n",
      "A B C D \n",
      "A B C \n",
      "A B \n",
      "A\n"
     ]
    }
   ],
   "source": [
    "A=['A','B','C','D','E','F','G','H','I','J','K','L','M','N','O','P','Q','R','S','T','U','U','V','W','X','Y','Z']\n",
    "N=int(input(\"Enter a number\"))\n",
    "for i in range(N):\n",
    "    if(i==N-1):\n",
    "        print(\"A\")\n",
    "    else:\n",
    "        val=\"\"\n",
    "        for j in range(0,N-i):\n",
    "            val=val+ A[j] +\" \"\n",
    "        print(val)"
   ]
  },
  {
   "cell_type": "code",
   "execution_count": 35,
   "id": "2c9f83cd-ea25-4da0-8cef-6b99df226e04",
   "metadata": {},
   "outputs": [
    {
     "name": "stdout",
     "output_type": "stream",
     "text": [
      "Enter a number 5\n"
     ]
    },
    {
     "name": "stdout",
     "output_type": "stream",
     "text": [
      "5 4 3 2 1 \n",
      "5 4 3 2 \n",
      "5 4 3 \n",
      "5 4 \n",
      "5\n"
     ]
    }
   ],
   "source": [
    "N=int(input(\"Enter a number\"))\n",
    "for i in range(N):\n",
    "    if(i==N-1):\n",
    "        print(N)\n",
    "    else:\n",
    "        val=\"\"\n",
    "        for j in range(i+1,N+1):\n",
    "            val= str(j) +\" \"+val\n",
    "        print(val)"
   ]
  },
  {
   "cell_type": "code",
   "execution_count": 38,
   "id": "f3be2f22-8949-4fb0-9357-e23b99e4b293",
   "metadata": {},
   "outputs": [
    {
     "name": "stdout",
     "output_type": "stream",
     "text": [
      "Enter a number 4\n"
     ]
    },
    {
     "name": "stdout",
     "output_type": "stream",
     "text": [
      "D C B A \n",
      "D C B \n",
      "D C \n",
      "D\n"
     ]
    }
   ],
   "source": [
    "L=['A','B','C','D','E','F','G','H','I','J','K','L','M','N','O','P','Q','R','S','T','U','U','V','W','X','Y','Z']\n",
    "N=int(input(\"Enter a number\"))\n",
    "for i in range(N):\n",
    "    if(i==N-1):\n",
    "        print(L[N-1])\n",
    "    else:\n",
    "        val=\"\"\n",
    "        for j in range(i,N):\n",
    "            val= L[j] +\" \"+val\n",
    "        print(val)\n"
   ]
  },
  {
   "cell_type": "code",
   "execution_count": 40,
   "id": "295e97b6-e4d2-4c28-9a1f-6505e190ef02",
   "metadata": {},
   "outputs": [
    {
     "name": "stdout",
     "output_type": "stream",
     "text": [
      "P\n",
      "Py\n",
      "Pyt\n",
      "Pyth\n",
      "Pytho\n",
      "Python\n"
     ]
    }
   ],
   "source": [
    "S=\"Python\"\n",
    "l=len(S)\n",
    "for i in range(l):\n",
    "    print(S[:i+1])"
   ]
  },
  {
   "cell_type": "code",
   "execution_count": 2,
   "id": "0e624630-8d92-49f6-9acf-91b7c2d99d53",
   "metadata": {},
   "outputs": [
    {
     "name": "stdin",
     "output_type": "stream",
     "text": [
      "Enter a number: 4\n"
     ]
    },
    {
     "name": "stdout",
     "output_type": "stream",
     "text": [
      "A\n",
      "B C \n",
      "D E F \n",
      "G H I J \n"
     ]
    }
   ],
   "source": [
    "L=['A','B','C','D','E','F','G','H','I','J','K','L','M','N','O','P','Q','R','S','T','U','U','V','W','X','Y','Z']\n",
    "N=int(input(\"Enter a number:\"))\n",
    "count=1\n",
    "for i in range(N):\n",
    "    if(i==0):\n",
    "        print(\"A\")\n",
    "    else:\n",
    "        val=\"\"\n",
    "        for j in range(0,i+1):\n",
    "            val=val+ L[count]+\" \"\n",
    "            count=count+1\n",
    "        print(val)\n",
    "            "
   ]
  },
  {
   "cell_type": "code",
   "execution_count": 4,
   "id": "b18e54eb-6405-40ae-84cb-9990b04a6b0d",
   "metadata": {},
   "outputs": [
    {
     "name": "stdin",
     "output_type": "stream",
     "text": [
      "Enter a number: 4\n"
     ]
    },
    {
     "name": "stdout",
     "output_type": "stream",
     "text": [
      "A \n",
      "B C \n",
      "D E F \n",
      "G H I J \n"
     ]
    }
   ],
   "source": [
    "L=['A','B','C','D','E','F','G','H','I','J','K','L','M','N','O','P','Q','R','S','T','U','U','V','W','X','Y','Z']\n",
    "N=int(input(\"Enter a number:\"))\n",
    "count=0\n",
    "for i in range(N):\n",
    "    val=\"\"\n",
    "    for j in range(0,i+1):\n",
    "        val=val+ L[count]+\" \"\n",
    "        count=count+1\n",
    "    print(val)"
   ]
  },
  {
   "cell_type": "code",
   "execution_count": 5,
   "id": "2563239d-9994-4bc3-9ddf-dd312a7950d2",
   "metadata": {},
   "outputs": [
    {
     "name": "stdin",
     "output_type": "stream",
     "text": [
      "Enter a number: 5\n"
     ]
    },
    {
     "name": "stdout",
     "output_type": "stream",
     "text": [
      "1 \n",
      "2 3 \n",
      "4 5 6 \n",
      "7 8 9 10 \n",
      "11 12 13 14 15 \n"
     ]
    }
   ],
   "source": [
    "N=int(input(\"Enter a number:\"))\n",
    "count=1\n",
    "for i in range(N):\n",
    "    val=\"\"\n",
    "    for j in range(0,i+1):\n",
    "        val=val+ str(count)+\" \"\n",
    "        count=count+1\n",
    "    print(val)"
   ]
  },
  {
   "cell_type": "code",
   "execution_count": 17,
   "id": "6e3a05cd-99fe-4693-808a-14c3bc18cf7f",
   "metadata": {},
   "outputs": [
    {
     "name": "stdin",
     "output_type": "stream",
     "text": [
      "enter the number 6\n"
     ]
    },
    {
     "name": "stdout",
     "output_type": "stream",
     "text": [
      "1 \n",
      "2 7 \n",
      "3 8 12 \n",
      "4 9 13 16 \n",
      "5 10 14 17 19 \n",
      "6 11 15 18 20 21 \n"
     ]
    }
   ],
   "source": [
    "N=int(input(\"enter the number\"))\n",
    "for i in range(N):\n",
    "    count=i+1\n",
    "    val=str(i+1)+\" \"\n",
    "    for j in range(1,i+1):\n",
    "        val=val+str(count+N-1)+\" \"\n",
    "        count=count+N-j-1\n",
    "    print(val)"
   ]
  },
  {
   "cell_type": "code",
   "execution_count": 21,
   "id": "dc894ed3-7ba4-42ad-a85e-32aa86d99723",
   "metadata": {},
   "outputs": [
    {
     "name": "stdin",
     "output_type": "stream",
     "text": [
      "enter the number 6\n"
     ]
    },
    {
     "name": "stdout",
     "output_type": "stream",
     "text": [
      "A \n",
      "B G \n",
      "C H L \n",
      "D I M P \n",
      "E J N Q S \n",
      "F K O R T U \n"
     ]
    }
   ],
   "source": [
    "L=['A','B','C','D','E','F','G','H','I','J','K','L','M','N','O','P','Q','R','S','T','U','U','V','W','X','Y','Z']\n",
    "N=int(input(\"enter the number\"))\n",
    "for i in range(N):\n",
    "    count=i\n",
    "    val=L[count]+\" \"\n",
    "    for j in range(1,i+1):\n",
    "        val=val+L[count+N-1]+\" \"\n",
    "        count=count+N-j-1\n",
    "    print(val)"
   ]
  },
  {
   "cell_type": "code",
   "execution_count": 36,
   "id": "d81362a3-e091-4b67-97bf-ba81a059bebb",
   "metadata": {},
   "outputs": [
    {
     "name": "stdin",
     "output_type": "stream",
     "text": [
      "enter the number 5\n"
     ]
    },
    {
     "name": "stdout",
     "output_type": "stream",
     "text": [
      "1 \n",
      "2 9 \n",
      "3 8 10 \n",
      "4 7 11 15 \n",
      "5 6 12 18 24 \n"
     ]
    }
   ],
   "source": [
    "N=int(input(\"enter the number\"))\n",
    "for i in range(N):\n",
    "    count=i+1\n",
    "    val=str(i+1)+\" \"\n",
    "    for j in range(1,i+1):\n",
    "        val=val+str(count+2*N-2*i-1)+\" \"\n",
    "        count=count+(2*i-2)\n",
    "    print(val)"
   ]
  },
  {
   "cell_type": "code",
   "execution_count": null,
   "id": "f18cf6c3-bdaf-4de6-bcc9-85e6be240549",
   "metadata": {},
   "outputs": [],
   "source": []
  }
 ],
 "metadata": {
  "kernelspec": {
   "display_name": "Python 3 (ipykernel)",
   "language": "python",
   "name": "python3"
  },
  "language_info": {
   "codemirror_mode": {
    "name": "ipython",
    "version": 3
   },
   "file_extension": ".py",
   "mimetype": "text/x-python",
   "name": "python",
   "nbconvert_exporter": "python",
   "pygments_lexer": "ipython3",
   "version": "3.11.5"
  }
 },
 "nbformat": 4,
 "nbformat_minor": 5
}
