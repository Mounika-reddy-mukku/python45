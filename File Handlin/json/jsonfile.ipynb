{
 "cells": [
  {
   "cell_type": "code",
   "execution_count": 1,
   "id": "263d41db-0152-4812-8d05-d55738c3a617",
   "metadata": {},
   "outputs": [
    {
     "name": "stdout",
     "output_type": "stream",
     "text": [
      "{'id': 101, 'name': 'Mounika'}\n"
     ]
    }
   ],
   "source": [
    "#json string to python dict using loads\n",
    "import json\n",
    "json_string='''{\"id\":101,\"name\":\"Mounika\"}'''\n",
    "dict=json.loads(json_string)\n",
    "print(dict)"
   ]
  },
  {
   "cell_type": "code",
   "execution_count": 2,
   "id": "92305580-d5a5-478f-a6a2-1d72e0d1ab9b",
   "metadata": {},
   "outputs": [
    {
     "name": "stdout",
     "output_type": "stream",
     "text": [
      "{\"id\": 101, \"name\": \"Mounika\"}\n"
     ]
    }
   ],
   "source": [
    "#python dict to json using dumps\n",
    "import json\n",
    "dict= {'id': 101, 'name': 'Mounika'}\n",
    "json_string=json.dumps(dict)\n",
    "print(json_string)"
   ]
  },
  {
   "cell_type": "code",
   "execution_count": 4,
   "id": "1e2f5e42-1db3-4cb8-8276-b3c96bfc322f",
   "metadata": {},
   "outputs": [
    {
     "name": "stdout",
     "output_type": "stream",
     "text": [
      "{'id': 101, 'name': 'Mounika', 'sal': 50000}\n"
     ]
    }
   ],
   "source": [
    "#reading json file and print by covert it into dict using LOAD\n",
    "import json\n",
    "fp=open('emp.json','r')\n",
    "dict=json.load(fp)\n",
    "print(dict)\n",
    "fp.close()"
   ]
  },
  {
   "cell_type": "code",
   "execution_count": 6,
   "id": "a0aa4425-a737-4f92-b6b6-2d5740e79831",
   "metadata": {},
   "outputs": [],
   "source": [
    "#creating jsonfile by coverting dict data using dump \n",
    "import json\n",
    "emp_dict={'id': 101, 'name': 'Mounika', 'sal': 50000,'avail':True}\n",
    "fp=open('new.json','w')\n",
    "json.dump(emp_dict,fp)\n",
    "fp.close()"
   ]
  },
  {
   "cell_type": "code",
   "execution_count": null,
   "id": "93dd1d7e-bcf7-4d76-b53e-2ef9d85e7131",
   "metadata": {},
   "outputs": [],
   "source": []
  }
 ],
 "metadata": {
  "kernelspec": {
   "display_name": "Python 3 (ipykernel)",
   "language": "python",
   "name": "python3"
  },
  "language_info": {
   "codemirror_mode": {
    "name": "ipython",
    "version": 3
   },
   "file_extension": ".py",
   "mimetype": "text/x-python",
   "name": "python",
   "nbconvert_exporter": "python",
   "pygments_lexer": "ipython3",
   "version": "3.11.5"
  }
 },
 "nbformat": 4,
 "nbformat_minor": 5
}
