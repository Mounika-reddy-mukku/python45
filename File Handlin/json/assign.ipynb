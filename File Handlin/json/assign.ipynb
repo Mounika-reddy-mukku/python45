{
 "cells": [
  {
   "cell_type": "code",
   "execution_count": 23,
   "metadata": {},
   "outputs": [],
   "source": [
    "import json\n",
    "import csv\n",
    "\n",
    "# Replace these file paths with your own JSON and CSV file paths\n",
    "json_file_path = 'data.json'\n",
    "csv_file_path = 'output.csv'\n",
    "\n",
    "# Read the JSON file\n",
    "with open(json_file_path, 'r') as json_file:\n",
    "    data = json.load(json_file)\n",
    "    data=list(filter(lambda a : a['gender']=='Female',data))\n",
    "    \n",
    "\n",
    "# Extract the keys from the first JSON object to use as CSV header\n",
    "header = data[0].keys()\n",
    "\n",
    "# Write the data to the CSV file\n",
    "with open(csv_file_path, 'w', newline='') as csv_file:\n",
    "    csv_writer = csv.writer(csv_file)\n",
    "    \n",
    "    # Write the header\n",
    "    csv_writer.writerow(header)\n",
    "    \n",
    "    # Write the data\n",
    "    for item in data:\n",
    "        csv_writer.writerow(item.values())"
   ]
  }
 ],
 "metadata": {
  "kernelspec": {
   "display_name": "Python 3",
   "language": "python",
   "name": "python3"
  },
  "language_info": {
   "codemirror_mode": {
    "name": "ipython",
    "version": 3
   },
   "file_extension": ".py",
   "mimetype": "text/x-python",
   "name": "python",
   "nbconvert_exporter": "python",
   "pygments_lexer": "ipython3",
   "version": "3.9.5"
  }
 },
 "nbformat": 4,
 "nbformat_minor": 2
}
