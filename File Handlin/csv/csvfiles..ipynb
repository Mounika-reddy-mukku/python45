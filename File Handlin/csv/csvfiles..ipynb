{
 "cells": [
  {
   "cell_type": "code",
   "execution_count": 1,
   "metadata": {},
   "outputs": [
    {
     "name": "stdout",
     "output_type": "stream",
     "text": [
      "<_csv.reader object at 0x000001725C75DE20>\n",
      "<class '_csv.reader'>\n"
     ]
    }
   ],
   "source": [
    "import csv\n",
    "fp=open('data.csv','r')\n",
    "csv_obj_reader=csv.reader(fp)\n",
    "print(csv_obj_reader)\n",
    "print(type(csv_obj_reader))\n",
    "fp.close()"
   ]
  },
  {
   "cell_type": "code",
   "execution_count": 3,
   "metadata": {},
   "outputs": [
    {
     "name": "stdout",
     "output_type": "stream",
     "text": [
      "['id', 'name', 'sal']\n",
      "['101', 'rahul', '45000']\n",
      "['102', 'sonia', '55000']\n"
     ]
    }
   ],
   "source": [
    "import csv\n",
    "fp=open('data.csv','r')\n",
    "csv_obj_reader=csv.reader(fp)\n",
    "for obj in csv_obj_reader:\n",
    "    print(obj)\n",
    "fp.close()"
   ]
  },
  {
   "cell_type": "code",
   "execution_count": 4,
   "metadata": {},
   "outputs": [
    {
     "name": "stdout",
     "output_type": "stream",
     "text": [
      "id\n",
      "name\n",
      "sal\n",
      "101\n",
      "rahul\n",
      "45000\n",
      "102\n",
      "sonia\n",
      "55000\n"
     ]
    }
   ],
   "source": [
    "import csv\n",
    "fp=open('data.csv','r')\n",
    "csv_obj_reader=csv.reader(fp)\n",
    "for obj in csv_obj_reader:\n",
    "    for a in obj:\n",
    "        print(a)\n",
    "fp.close()"
   ]
  },
  {
   "cell_type": "code",
   "execution_count": 6,
   "metadata": {},
   "outputs": [
    {
     "name": "stdout",
     "output_type": "stream",
     "text": [
      "id name sal 101 rahul 45000 102 sonia 55000 "
     ]
    }
   ],
   "source": [
    "import csv\n",
    "fp=open('data.csv','r')\n",
    "csv_obj_reader=csv.reader(fp)\n",
    "for obj in csv_obj_reader:\n",
    "    for a in obj:\n",
    "        print(a,end=\" \")\n",
    "fp.close()"
   ]
  },
  {
   "cell_type": "code",
   "execution_count": 8,
   "metadata": {},
   "outputs": [],
   "source": [
    "#write\n",
    "fp=open('empt.csv','w')\n",
    "csv_obj=csv.writer(fp) #creating the file empy.csv\n",
    "fp.close()"
   ]
  },
  {
   "cell_type": "code",
   "execution_count": 3,
   "metadata": {},
   "outputs": [
    {
     "data": {
      "text/plain": [
       "'output:\\nid,name,sal\\n\\n101,Mounika,50000'"
      ]
     },
     "execution_count": 3,
     "metadata": {},
     "output_type": "execute_result"
    }
   ],
   "source": [
    "\n",
    "import csv\n",
    "fp=open('empt.csv','w')\n",
    "csv_obj=csv.writer(fp)\n",
    "csv_obj.writerow(['id','name','sal'])\n",
    "csv_obj.writerow(['101','Mounika','50000'])\n",
    "fp.close()\n",
    "'''output:\n",
    "id,name,sal\n",
    "\n",
    "101,Mounika,50000'''\n",
    "#here there is a line gap between two rows to avoid this we use 'newline'"
   ]
  },
  {
   "cell_type": "code",
   "execution_count": 1,
   "metadata": {},
   "outputs": [
    {
     "name": "stdout",
     "output_type": "stream",
     "text": [
      "Enter No of users: 2\n",
      "Enter User Name: mounika\n",
      "Enter User Email : mounika@gmail.com\n",
      "Enter User City : Kanigiri\n",
      "Enter User Name: vakula\n",
      "Enter User Email : vakula@gmail.com\n",
      "Enter User City : vi\n"
     ]
    }
   ],
   "source": [
    "import csv\n",
    "fp=open('userdata.csv','w',newline=\"\")\n",
    "csv_obj=csv.writer(fp)\n",
    "csv_obj.writerow(['name','email','city'])\n",
    "no_users=int(input(\"Enter No of users:\"))\n",
    "for x in range(no_users):\n",
    "    name = input(\"Enter User Name:\")\n",
    "    email = input(\"Enter User Email :\")\n",
    "    city = input(\"Enter User City :\")\n",
    "    csv_obj.writerow([name,email,city])\n",
    "fp.close()\n"
   ]
  },
  {
   "cell_type": "code",
   "execution_count": null,
   "metadata": {},
   "outputs": [],
   "source": []
  }
 ],
 "metadata": {
  "kernelspec": {
   "display_name": "Python 3 (ipykernel)",
   "language": "python",
   "name": "python3"
  },
  "language_info": {
   "codemirror_mode": {
    "name": "ipython",
    "version": 3
   },
   "file_extension": ".py",
   "mimetype": "text/x-python",
   "name": "python",
   "nbconvert_exporter": "python",
   "pygments_lexer": "ipython3",
   "version": "3.9.5"
  }
 },
 "nbformat": 4,
 "nbformat_minor": 4
}
