{
 "cells": [
  {
   "cell_type": "code",
   "execution_count": 4,
   "metadata": {},
   "outputs": [
    {
     "name": "stdout",
     "output_type": "stream",
     "text": [
      "[1, 5, 12, 22, 35, 51, 70]\n"
     ]
    }
   ],
   "source": [
    "def generate_series(n):\n",
    "    series = [1]\n",
    "\n",
    "    for i in range(1, n):\n",
    "        series.append(series[-1] + (i * 3) + 1)\n",
    "\n",
    "    return series\n",
    "\n",
    "given_number = 7 \n",
    "result_series = generate_series(given_number)\n",
    "\n",
    "print(result_series)"
   ]
  },
  {
   "cell_type": "code",
   "execution_count": 8,
   "metadata": {},
   "outputs": [
    {
     "name": "stdout",
     "output_type": "stream",
     "text": [
      "[1, 4, 9, 25, 36, 49, 81, 100]\n"
     ]
    }
   ],
   "source": [
    "N=int(input())\n",
    "L=[]\n",
    "for i in range(1,N+1):\n",
    "    if(i%4==0):\n",
    "        continue\n",
    "    a=i*i\n",
    "    L.append(a)\n",
    "print(L)\n"
   ]
  },
  {
   "cell_type": "code",
   "execution_count": 26,
   "metadata": {},
   "outputs": [
    {
     "name": "stdout",
     "output_type": "stream",
     "text": [
      "Biggest number: 13\n",
      "Second biggest number: 12\n"
     ]
    }
   ],
   "source": [
    "num1=int(input())\n",
    "num2=int(input())\n",
    "num3=int(input()) \n",
    "if num1 >= num2 and num1 >= num3:\n",
    "    largest = num1\n",
    "    if num2 >= num3:\n",
    "        second_largest = num2\n",
    "    else:\n",
    "        second_largest = num3\n",
    "elif num2 >= num1 and num2 >= num3:\n",
    "    largest = num2\n",
    "    if num1 >= num3:\n",
    "        second_largest = num1\n",
    "    else:\n",
    "        second_largest = num3\n",
    "else:\n",
    "    largest = num3\n",
    "    if num1 >= num2:\n",
    "        second_largest = num1\n",
    "    else:\n",
    "        second_largest = num2\n",
    "print(\"Largest number:\", largest)\n",
    "print(\"Second Largest number:\", second_largest)\n"
   ]
  },
  {
   "cell_type": "code",
   "execution_count": 24,
   "metadata": {},
   "outputs": [
    {
     "name": "stdout",
     "output_type": "stream",
     "text": [
      "2\n",
      "3\n",
      "4\n",
      "5\n",
      "5\n",
      "5\n",
      "6\n",
      "7\n",
      "8\n",
      "9\n",
      "9\n",
      "[1, 3, 5, 8, 12, 17, 23, 30, 38]\n"
     ]
    }
   ],
   "source": [
    "n=10\n",
    "Series=[1,3]\n",
    "a=2\n",
    "for i in range(2,n+1):\n",
    "    print(a)\n",
    "    if(i%5==0):\n",
    "        a=2+Series[-1]-Series[-2]-1\n",
    "        print(a)\n",
    "        continue\n",
    "    Series.append(Series[-1]+a)\n",
    "    a=2+Series[-1]-Series[-2]-1\n",
    "    \n",
    "    \n",
    "print(Series)"
   ]
  }
 ],
 "metadata": {
  "kernelspec": {
   "display_name": "Python 3",
   "language": "python",
   "name": "python3"
  },
  "language_info": {
   "codemirror_mode": {
    "name": "ipython",
    "version": 3
   },
   "file_extension": ".py",
   "mimetype": "text/x-python",
   "name": "python",
   "nbconvert_exporter": "python",
   "pygments_lexer": "ipython3",
   "version": "3.11.5"
  }
 },
 "nbformat": 4,
 "nbformat_minor": 2
}
