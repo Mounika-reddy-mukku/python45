{
 "cells": [
  {
   "cell_type": "code",
   "execution_count": 1,
   "id": "5c02f9fd-9e9f-4880-bcd9-6e79ba5aa5ba",
   "metadata": {},
   "outputs": [
    {
     "name": "stdout",
     "output_type": "stream",
     "text": [
      "<class 'dict'>\n"
     ]
    }
   ],
   "source": [
    "#create\n",
    "d={}\n",
    "print(type(d))"
   ]
  },
  {
   "cell_type": "code",
   "execution_count": 6,
   "id": "24c5066a-8897-4821-bd98-0fddfd5ea007",
   "metadata": {},
   "outputs": [
    {
     "name": "stdout",
     "output_type": "stream",
     "text": [
      "{'id': 101, 'name': 'Mounika', 'sal': '8lpa'}\n",
      "<class 'dict'>\n"
     ]
    }
   ],
   "source": [
    "emp={'id':101, 'name':'Mounika','sal':'8lpa'}\n",
    "print(emp)\n",
    "print(type(emp))"
   ]
  },
  {
   "cell_type": "code",
   "execution_count": 5,
   "id": "cd2548e5-e404-4569-8dc2-d4da09d95d99",
   "metadata": {},
   "outputs": [
    {
     "name": "stdout",
     "output_type": "stream",
     "text": [
      "Mounika\n"
     ]
    }
   ],
   "source": [
    "#read\n",
    "emp={'id':101, 'name':'Mounika','sal':'8lpa'}\n",
    "print(emp['name'])\n"
   ]
  },
  {
   "cell_type": "code",
   "execution_count": 7,
   "id": "a1f889ee-5640-476e-b073-f0328cfe966d",
   "metadata": {},
   "outputs": [
    {
     "name": "stdout",
     "output_type": "stream",
     "text": [
      "8lpa\n"
     ]
    }
   ],
   "source": [
    "emp={'id':101, 'name':'Mounika','sal':'8lpa'}\n",
    "print(emp['sal'])"
   ]
  },
  {
   "cell_type": "code",
   "execution_count": 9,
   "id": "20503ace-5f18-4066-887a-343bd5d2b666",
   "metadata": {},
   "outputs": [
    {
     "name": "stdout",
     "output_type": "stream",
     "text": [
      "dict_keys(['id', 'name', 'sal'])\n",
      "dict_values([101, 'Mounika', '8lpa'])\n",
      "dict_items([('id', 101), ('name', 'Mounika'), ('sal', '8lpa')])\n"
     ]
    }
   ],
   "source": [
    "emp={'id':101, 'name':'Mounika','sal':'8lpa'}\n",
    "print(emp.keys())\n",
    "print(emp.values())\n",
    "print(emp.items())"
   ]
  },
  {
   "cell_type": "code",
   "execution_count": 10,
   "id": "0568cf0f-db07-4ec2-a229-342705fe34be",
   "metadata": {},
   "outputs": [
    {
     "name": "stdout",
     "output_type": "stream",
     "text": [
      "id : 101\n",
      "name : Mounika\n",
      "sal : 8lpa\n"
     ]
    }
   ],
   "source": [
    "emp={'id':101, 'name':'Mounika','sal':'8lpa'}\n",
    "for key,value in emp.items():\n",
    "    print(key, \":\",value)"
   ]
  },
  {
   "cell_type": "code",
   "execution_count": 11,
   "id": "c855701e-7f38-4655-b5d3-52f040e31201",
   "metadata": {},
   "outputs": [
    {
     "name": "stdout",
     "output_type": "stream",
     "text": [
      "{'id': 101, 'name': 'Mounika Reddy', 'sal': '8lpa'}\n"
     ]
    }
   ],
   "source": [
    "#update\n",
    "emp={'id':101, 'name':'Mounika','sal':'8lpa'}\n",
    "emp['name']=\"Mounika Reddy\"\n",
    "print(emp)"
   ]
  },
  {
   "cell_type": "code",
   "execution_count": 1,
   "id": "33f7330b",
   "metadata": {},
   "outputs": [
    {
     "name": "stdout",
     "output_type": "stream",
     "text": [
      "{'id': 101, 'name': 'Mounika', 'sal': '8lpa', 'loc': 'Kochi'}\n"
     ]
    }
   ],
   "source": [
    "emp={'id':101, 'name':'Mounika','sal':'8lpa'}\n",
    "emp['loc']=\"Kochi\"\n",
    "print(emp)"
   ]
  },
  {
   "cell_type": "code",
   "execution_count": 2,
   "id": "7e9fa6bf-682a-4249-a4b4-9a7a7bc07c28",
   "metadata": {},
   "outputs": [
    {
     "name": "stdout",
     "output_type": "stream",
     "text": [
      "{'id': 101, 'name': 'Mounika Reddy Mukku', 'sal': '10lpa', 'loc': 'kochi'}\n"
     ]
    }
   ],
   "source": [
    "emp={'id':101, 'name':'Mounika','sal':'8lpa'}\n",
    "emp.update({'sal':'10lpa', 'name':'Mounika Reddy Mukku','loc':\"kochi\"})\n",
    "print(emp)"
   ]
  },
  {
   "cell_type": "code",
   "execution_count": 15,
   "id": "fb04a589-bf92-489b-9989-31858635d340",
   "metadata": {},
   "outputs": [
    {
     "name": "stdout",
     "output_type": "stream",
     "text": [
      "101\n",
      "{'name': 'Mounika', 'sal': '8lpa'}\n"
     ]
    }
   ],
   "source": [
    "#delete\n",
    "emp={'id':101, 'name':'Mounika','sal':'8lpa'}\n",
    "print(emp.pop('id'))\n",
    "print(emp)"
   ]
  },
  {
   "cell_type": "code",
   "execution_count": 16,
   "id": "c9ff7a54-45d3-4a07-a574-76deff4243ac",
   "metadata": {},
   "outputs": [
    {
     "name": "stdout",
     "output_type": "stream",
     "text": [
      "('sal', '8lpa')\n",
      "{'id': 101, 'name': 'Mounika'}\n"
     ]
    }
   ],
   "source": [
    "emp={'id':101, 'name':'Mounika','sal':'8lpa'}\n",
    "print(emp.popitem()) #deltes a random key:value\n",
    "print(emp)"
   ]
  },
  {
   "cell_type": "code",
   "execution_count": 17,
   "id": "3cef2289-ea0f-45a5-9d01-870240d1abb1",
   "metadata": {},
   "outputs": [
    {
     "name": "stdout",
     "output_type": "stream",
     "text": [
      "{'name': 'Mounika', 'sal': '8lpa'}\n"
     ]
    }
   ],
   "source": [
    "emp={'id':101, 'name':'Mounika','sal':'8lpa'}\n",
    "del emp['id']\n",
    "print(emp)"
   ]
  },
  {
   "cell_type": "code",
   "execution_count": null,
   "id": "8887daa3-359e-4b73-b5fa-7d8048b1a1da",
   "metadata": {},
   "outputs": [],
   "source": []
  }
 ],
 "metadata": {
  "kernelspec": {
   "display_name": "Python 3 (ipykernel)",
   "language": "python",
   "name": "python3"
  },
  "language_info": {
   "codemirror_mode": {
    "name": "ipython",
    "version": 3
   },
   "file_extension": ".py",
   "mimetype": "text/x-python",
   "name": "python",
   "nbconvert_exporter": "python",
   "pygments_lexer": "ipython3",
   "version": "3.11.5"
  }
 },
 "nbformat": 4,
 "nbformat_minor": 5
}
